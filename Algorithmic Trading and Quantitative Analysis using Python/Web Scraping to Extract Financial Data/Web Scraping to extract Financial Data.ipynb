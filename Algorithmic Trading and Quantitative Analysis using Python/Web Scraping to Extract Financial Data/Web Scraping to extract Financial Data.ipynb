{
 "cells": [
  {
   "cell_type": "markdown",
   "id": "17d5c6c2",
   "metadata": {},
   "source": [
    "## API Vs Web Scraping"
   ]
  },
  {
   "cell_type": "markdown",
   "id": "329bb1e4",
   "metadata": {},
   "source": [
    "1. **Data Extraction using API** - \n",
    "\n",
    "* Many websites/web applications provide Appliaction Programming Interface (API) which lets developers access data effeciently.\n",
    "\n",
    "* Usually paid/subscription based but can be available for free as well with some restrictions.\n"
   ]
  },
  {
   "cell_type": "markdown",
   "id": "f2afc39f",
   "metadata": {},
   "source": [
    "2. **Data Extraction using Web Scraping** -\n",
    "\n",
    "* Access data on a webpage by parsing the page's backend code.\n",
    "\n",
    "* Not as eficient as API.\n",
    "\n",
    "* Legality is a grey area with conflicting opinions. However, use for non commercial purposes is generally allowed. Companies also do not appreciate the increased load on thier servers caused by scraping bots.\n",
    "\n",
    "* Companies actively discourage users from using web scraping to access their data and therefore it is getting increasingly difficult to use scrape websites."
   ]
  },
  {
   "cell_type": "markdown",
   "id": "df3f1f8d",
   "metadata": {},
   "source": [
    "## HTML Introduction"
   ]
  },
  {
   "cell_type": "code",
   "execution_count": null,
   "id": "0894aee0",
   "metadata": {},
   "outputs": [],
   "source": []
  }
 ],
 "metadata": {
  "kernelspec": {
   "display_name": "Python 3 (ipykernel)",
   "language": "python",
   "name": "python3"
  },
  "language_info": {
   "codemirror_mode": {
    "name": "ipython",
    "version": 3
   },
   "file_extension": ".py",
   "mimetype": "text/x-python",
   "name": "python",
   "nbconvert_exporter": "python",
   "pygments_lexer": "ipython3",
   "version": "3.9.13"
  }
 },
 "nbformat": 4,
 "nbformat_minor": 5
}
