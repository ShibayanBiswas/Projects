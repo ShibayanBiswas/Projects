{
  "nbformat": 4,
  "nbformat_minor": 0,
  "metadata": {
    "colab": {
      "provenance": [],
      "collapsed_sections": []
    },
    "kernelspec": {
      "name": "python3",
      "display_name": "Python 3"
    },
    "language_info": {
      "name": "python"
    }
  },
  "cells": [
    {
      "cell_type": "markdown",
      "source": [
        "Dataset Details\n",
        "\n",
        "Send Feedback\n",
        "\n",
        "This dataset has funding information of the Indian startups from January 2015 to August 2017.\n",
        "\n",
        "Feature Details :\n",
        "\n",
        "SNo - Serial number.\n",
        "\n",
        "Date - Date of funding in format DD/MM/YYYY.\n",
        "\n",
        "StartupName - Name of the startup which got funded.\n",
        "\n",
        "IndustryVertical - Industry to which the startup belongs.\n",
        "\n",
        "SubVertical - Sub-category of the industry type.\n",
        "\n",
        "CityLocation - City which the startup is based out of.\n",
        "\n",
        "InvestorsName - Name of the investors involved in the funding round.\n",
        "\n",
        "InvestmentType - Either Private Equity or Seed Funding.\n",
        "\n",
        "AmountInUSD - Funding Amount in USD.\n",
        "\n",
        "Remarks - Other information, if any.\n",
        "\n",
        "Insights -\n",
        "\n",
        "Find out what type of startups are getting funded in the last few years?\n",
        "\n",
        "Who are the important investors?\n",
        "\n",
        "What are the hot fields that get a lot of funding these days?\n",
        "\n",
        "Note :\n",
        "\n",
        "Download Dataset"
      ],
      "metadata": {
        "id": "PBn8laLNtu6Y"
      }
    },
    {
      "cell_type": "markdown",
      "source": [
        "##**Number of Fundings**"
      ],
      "metadata": {
        "id": "oEIEFOQduZLb"
      }
    },
    {
      "cell_type": "markdown",
      "source": [
        "Given File 'startup_funding.csv'\n",
        "\n",
        "Problem Statement :\n",
        "\n",
        "Check the trend of investments over the years. To check the trend, find -\n",
        "\n",
        "Total number of fundings done in each year.\n",
        "\n",
        "Plot a line graph between year and number of fundings. Take year on x-axis and number of fundings on y-axis.\n",
        "\n",
        "Print year-wise total number of fundings also. Print years in ascending order.\n",
        "\n",
        "Note :\n",
        "\n",
        "There is some error in the 'Date' feature. Make sure to handle that.\n",
        "\n",
        "Output Format :\n",
        "\n",
        "year1 TotalFunding1\n",
        "\n",
        "year2 TotalFunding2\n",
        "\n",
        ". . . "
      ],
      "metadata": {
        "id": "cH6uRoK7ujo7"
      }
    },
    {
      "cell_type": "code",
      "source": [
        "import pandas as pd \n",
        "import numpy as np \n",
        "import matplotlib.pyplot as plt\n",
        "\n",
        "df = pd.read_csv('startup_funding.csv')\n",
        "df.Date = df.Date.str[-4:]\n",
        "df = df.groupby(by='Date').size()\n",
        "year_No_dict = df.to_dict()\n",
        "year = []\n",
        "no_of_funding=[]\n",
        "for k,v in year_No_dict.items():\n",
        "    no_of_funding.append(v)\n",
        "    year.append(k)\n",
        "    print(k,v)\n",
        "\n",
        "    \n",
        "plt.plot(year,no_of_funding)\n",
        "plt.title('trend of investments over the years')\n",
        "plt.xlabel('Year')\n",
        "plt.ylabel('No. of Fundings')\n",
        "plt.show()"
      ],
      "metadata": {
        "colab": {
          "base_uri": "https://localhost:8080/",
          "height": 347
        },
        "id": "EKe4CU1Quxz2",
        "outputId": "9502e435-9daf-4354-91ec-2589970a7094"
      },
      "execution_count": 3,
      "outputs": [
        {
          "output_type": "stream",
          "name": "stdout",
          "text": [
            "2015 936\n",
            "2016 993\n",
            "2017 443\n"
          ]
        },
        {
          "output_type": "display_data",
          "data": {
            "text/plain": [
              "<Figure size 432x288 with 1 Axes>"
            ],
            "image/png": "[encoded data removed]"
          },
          "metadata": {
            "needs_background": "light"
          }
        }
      ]
    },
    {
      "cell_type": "markdown",
      "source": [
        "##**Top Indian Cities**"
      ],
      "metadata": {
        "id": "SaXuAeMUxa5M"
      }
    },
    {
      "cell_type": "markdown",
      "source": [
        "Given File 'startup_funding.csv'\n",
        "\n",
        "Problem Statement :\n",
        "\n",
        "Find out which cities are generally chosen for starting a startup.\n",
        "\n",
        "Find top 10 Indian cities which have most number of startups ?\n",
        "\n",
        "Plot a pie chart and visualise it.\n",
        "\n",
        "Print the city name and number of startups in that city also.\n",
        "\n",
        "Note :\n",
        "\n",
        "Take city name \"Delhi\" as \"New Delhi\".\n",
        "\n",
        "Check the case-sensitiveness of cities also. That means - at some place, instead of \"Bangalore\", \"bangalore\" is given. Take city name as \"Bangalore\".\n",
        "\n",
        "For few startups multiple locations are given, one Indian and one Foreign. Count those startups in Indian startup also. Indian city name is first.\n",
        "\n",
        "Print the city in descending order with respect to the number of startups.\n",
        "\n",
        "Output Format :\n",
        "\n",
        "city1 number1\n",
        "\n",
        "city2 number2\n",
        "\n",
        ". . . "
      ],
      "metadata": {
        "id": "yVOZFo4AxrVp"
      }
    },
    {
      "cell_type": "code",
      "source": [
        "import pandas as pd \n",
        "import numpy as np \n",
        "import matplotlib.pyplot as plt\n",
        "\n",
        "df = pd.read_csv('startup_funding.csv')\n",
        "df = df.dropna(subset=['CityLocation'])\n",
        "def separateCity(city): \n",
        "    return city.split('/')[0].strip() \n",
        "df['CityLocation']=df['CityLocation'].apply(separateCity)\n",
        "df[df['CityLocation']=='bangalore'] = 'Bangalore'\n",
        "df[df['CityLocation']=='Delhi'] = 'New Delhi'\n",
        "\n",
        "df = df.groupby(by='CityLocation').size()\n",
        "df = df.nlargest(10)\n",
        "df = df.to_dict()\n",
        "City=[]\n",
        "no_of_statup=[]\n",
        "for i , j in df.items():\n",
        "    City.append(i)\n",
        "    no_of_statup.append(j)\n",
        "    print(i,j)\n",
        "\n",
        "plt.pie(no_of_statup,labels=City,autopct='%.2f')\n",
        "plt.show()"
      ],
      "metadata": {
        "colab": {
          "base_uri": "https://localhost:8080/",
          "height": 422
        },
        "id": "Th-r0WBxx-AZ",
        "outputId": "553087eb-2ad9-4729-dc14-aa7c2d532fe4"
      },
      "execution_count": 5,
      "outputs": [
        {
          "output_type": "stream",
          "name": "stdout",
          "text": [
            "Bangalore 635\n",
            "Mumbai 449\n",
            "New Delhi 389\n",
            "Gurgaon 241\n",
            "Pune 91\n",
            "Noida 79\n",
            "Hyderabad 77\n",
            "Chennai 67\n",
            "Ahmedabad 35\n",
            "Jaipur 25\n"
          ]
        },
        {
          "output_type": "display_data",
          "data": {
            "text/plain": [
              "<Figure size 432x288 with 1 Axes>"
            ],
            "image/png": "[encoded data removed]"
          },
          "metadata": {}
        }
      ]
    },
    {
      "cell_type": "markdown",
      "source": [
        "##**Funding amount**"
      ],
      "metadata": {
        "id": "_XvGaSCHyGJl"
      }
    },
    {
      "cell_type": "markdown",
      "source": [
        "Given File 'startup_funding.csv'\n",
        "\n",
        "Problem Statement :\n",
        "\n",
        "Find out if cities play any role in receiving funding.\n",
        "\n",
        "Find top 10 Indian cities with most amount of fundings received. Find out percentage of funding each city has got (among top 10 Indian cities only).\n",
        "\n",
        "Print the city and percentage with 2 decimal place after rounding off.\n",
        "\n",
        "Note:\n",
        "\n",
        "Take city name \"Delhi\" as \"New Delhi\".\n",
        "\n",
        "Check the case-sensitiveness of cities also. That means - at some place, instead of \"Bangalore\", \"bangalore\" is given. Take city name as \"Bangalore\".\n",
        "\n",
        "For few startups multiple locations are given, one Indian and one Foreign. Count those startups in Indian startup also. Indian city name is first.\n",
        "\n",
        "Print the city in descending order with respect to the percentage of funding.\n",
        "\n",
        "Output Format :\n",
        "\n",
        "city1 percent1\n",
        "\n",
        "city2 percent2\n",
        "\n",
        "city3 percent3\n",
        "\n",
        ". . . "
      ],
      "metadata": {
        "id": "uXHxgy3Y1pZV"
      }
    },
    {
      "cell_type": "code",
      "source": [
        "import pandas as pd \n",
        "import numpy as np \n",
        "import matplotlib.pyplot as plt\n",
        "\n",
        "df = pd.read_csv('startup_funding.csv',encoding = 'utf-8')\n",
        "df.dropna(subset=[\"CityLocation\"],inplace=True)\n",
        "def separateCity(city):\n",
        "    return city.split('/')[0].strip()\n",
        "df['CityLocation'] = df['CityLocation'].apply(separateCity)\n",
        "df['CityLocation'].replace(\"Delhi\",\"New Delhi\",inplace = True)\n",
        "df['CityLocation'].replace(\"bangalore\",\"Bangalore\",inplace = True)\n",
        "\n",
        "df['AmountInUSD'] = df['AmountInUSD'].apply(lambda x: float(str(x).replace(\",\",\"\")))\n",
        "df = df.groupby('CityLocation')['AmountInUSD'].sum()\n",
        "df = df.sort_values(ascending = False)[0:10]\n",
        "city = df.index\n",
        "amount = df.values\n",
        "explode = [0.01,0.01,0.01,0.01,0.2,0.2,0.2,0.2,0.2,0.2]\n",
        "plt.pie(amount,labels = city,autopct='%0.2f',counterclock=False,startangle=90,explode =explode,radius=1.5)\n",
        "plt.show()\n",
        "\n",
        "percent = np.true_divide(amount,amount.sum())*100\n",
        "for i in range(len(city)):\n",
        "    print(city[i],format(percent[i],'0.2f'))"
      ],
      "metadata": {
        "colab": {
          "base_uri": "https://localhost:8080/",
          "height": 502
        },
        "id": "uSygWUqN9dCK",
        "outputId": "42e0e377-0208-4b5d-9801-84ad9119d6e2"
      },
      "execution_count": 33,
      "outputs": [
        {
          "output_type": "display_data",
          "data": {
            "text/plain": [
              "<Figure size 432x288 with 1 Axes>"
            ],
            "image/png": "[encoded data removed]"
          },
          "metadata": {}
        },
        {
          "output_type": "stream",
          "name": "stdout",
          "text": [
            "Bangalore 49.71\n",
            "New Delhi 16.63\n",
            "Mumbai 13.90\n",
            "Gurgaon 12.21\n",
            "Chennai 2.43\n",
            "Pune 2.16\n",
            "Hyderabad 1.15\n",
            "Noida 1.01\n",
            "Ahmedabad 0.58\n",
            "Jaipur 0.21\n"
          ]
        }
      ]
    },
    {
      "cell_type": "markdown",
      "source": [
        "##**Investment Type**"
      ],
      "metadata": {
        "id": "3n-Qsj9hAExU"
      }
    },
    {
      "cell_type": "markdown",
      "source": [
        "Given File 'startup_funding.csv'\n",
        "\n",
        "Problem Statement :\n",
        "\n",
        "There are 4 different type of investments. Find out percentage of amount funded for each investment type.\n",
        "\n",
        "Plot a pie chart to visualise.\n",
        "\n",
        "Print the investment type and percentage of amount funded with 2 decimal places after rounding off.\n",
        "\n",
        "Note :\n",
        "\n",
        "Correct spelling of investment types are - \"Private Equity\", \"Seed Funding\", \"Debt Funding\", and \"Crowd Funding\". \n",
        "\n",
        "Keep an eye for any spelling mistake. You can find this by printing unique values from this column.\n",
        "\n",
        "Print the investment type in descending order with respect to the percentage of the amount funded.\n",
        "\n",
        "Output Format :\n",
        "\n",
        "investmentType1 percent1\n",
        "\n",
        "investmentType2 percent2\n",
        "\n",
        "investmentType3 percent3\n",
        "\n",
        ". . . "
      ],
      "metadata": {
        "id": "qsBBQ-ExAVWs"
      }
    },
    {
      "cell_type": "code",
      "source": [
        "import pandas as pd \n",
        "import numpy as np \n",
        "import matplotlib.pyplot as plt\n",
        "\n",
        "df = pd.read_csv('startup_funding.csv',encoding = 'utf-8')\n",
        "df['AmountInUSD'] = df['AmountInUSD'].apply(lambda x: float(str(x).replace(\",\",\"\")))\n",
        "df['InvestmentType'] = df['InvestmentType'].replace(['Crowd funding','PrivateEquity','SeedFunding'],['Crowd Funding','Private Equity','Seed Funding'])\n",
        "df= df.groupby(by='InvestmentType')['AmountInUSD'].sum()\n",
        "df = df.sort_values(ascending = False)\n",
        "InvestmentType = df.index\n",
        "amount = df.values\n",
        "\n",
        "explode = [0.01,0.1,0.2,0.3]\n",
        "\n",
        "plt.pie(amount,labels = InvestmentType,autopct='%0.2f',counterclock=False,startangle=90,radius=1.5,explode =explode)\n",
        "plt.show()\n",
        "\n",
        "percent = np.true_divide(amount,amount.sum())*100\n",
        "for i in range(len(InvestmentType)):\n",
        "    print(InvestmentType[i],format(percent[i],'0.2f'))\n"
      ],
      "metadata": {
        "colab": {
          "base_uri": "https://localhost:8080/",
          "height": 424
        },
        "id": "uMO5UxavAxpZ",
        "outputId": "79a38940-1e10-4820-f5ae-255560ff2fb1"
      },
      "execution_count": 38,
      "outputs": [
        {
          "output_type": "display_data",
          "data": {
            "text/plain": [
              "<Figure size 432x288 with 1 Axes>"
            ],
            "image/png": "[encoded data removed]"
          },
          "metadata": {}
        },
        {
          "output_type": "stream",
          "name": "stdout",
          "text": [
            "Private Equity 98.15\n",
            "Seed Funding 1.81\n",
            "Debt Funding 0.04\n",
            "Crowd Funding 0.00\n"
          ]
        }
      ]
    },
    {
      "cell_type": "markdown",
      "source": [
        "##**Top Industries**"
      ],
      "metadata": {
        "id": "b2ahxc6kBsis"
      }
    },
    {
      "cell_type": "markdown",
      "source": [
        "Given File 'startup_funding.csv'\n",
        "\n",
        "Problem Statement :\n",
        "\n",
        "Which type of companies got more easily funding. To answer this question, find -\n",
        "\n",
        "Top 5 industries and percentage of the total amount funded to that industry. (among top 5 only)\n",
        "\n",
        "Print the industry name and percentage of the amount funded with 2 decimal place after rounding off.\n",
        "\n",
        "Note :\n",
        "\n",
        "Ecommerce is the right word in IndustryVertical, so correct it.\n",
        "\n",
        "Print the industry in descending order with respect to the percentage of the amount funded.\n",
        "\n",
        "Output Format :\n",
        "\n",
        "industry1 percent1\n",
        "\n",
        "industry2 percent2\n",
        "\n",
        "industry3 percent3\n",
        "\n",
        ". . . "
      ],
      "metadata": {
        "id": "Rc-l1xs5ByzN"
      }
    },
    {
      "cell_type": "code",
      "source": [
        "import pandas as pd\n",
        "import numpy as np\n",
        "import matplotlib.pyplot as plt\n",
        "\n",
        "df = pd.read_csv('startup_funding.csv',encoding = 'utf-8')\n",
        "df['IndustryVertical'].replace('ECommerce','Ecommerce',inplace = True)\n",
        "df['IndustryVertical'].replace('eCommerce','Ecommerce',inplace = True)\n",
        "df['IndustryVertical'].replace('ecommerce','Ecommerce',inplace = True)\n",
        "df['AmountInUSD'] = df['AmountInUSD'].apply(lambda x: float(str(x).replace(\",\",\"\")))\n",
        "df = df.groupby('IndustryVertical')['AmountInUSD'].sum()\n",
        "df = df.sort_values(ascending = False)[:5]\n",
        "industry = df.index\n",
        "amount = df.values\n",
        "\n",
        "plt.pie(amount,labels = industry,autopct='%0.2f',counterclock=False,startangle=100)\n",
        "plt.show()\n",
        "percent = np.true_divide(amount,amount.sum())*100\n",
        "for i in range(len(industry)):\n",
        "    print(industry[i],format(percent[i],'0.2f'))"
      ],
      "metadata": {
        "colab": {
          "base_uri": "https://localhost:8080/",
          "height": 335
        },
        "id": "H3VmTxxNB-NT",
        "outputId": "00d2857c-0886-45a8-b9b5-78e0551f0ff4"
      },
      "execution_count": 39,
      "outputs": [
        {
          "output_type": "display_data",
          "data": {
            "text/plain": [
              "<Figure size 432x288 with 1 Axes>"
            ],
            "image/png": "[encoded data removed]"
          },
          "metadata": {}
        },
        {
          "output_type": "stream",
          "name": "stdout",
          "text": [
            "Ecommerce 40.53\n",
            "Consumer Internet 35.95\n",
            "Technology 10.45\n",
            "Online Marketplace 6.63\n",
            "E-Commerce & M-Commerce platform 6.44\n"
          ]
        }
      ]
    },
    {
      "cell_type": "markdown",
      "source": [
        "##**Top startups**"
      ],
      "metadata": {
        "id": "Xt7FYITXCFzJ"
      }
    },
    {
      "cell_type": "markdown",
      "source": [
        "Given File 'startup_funding.csv'\n",
        "\n",
        "Problem Statement :\n",
        "\n",
        "Find top 5 startups with most amount of total funding.\n",
        "\n",
        "Print the startup name in descending order with respect to amount of funding.\n",
        "\n",
        "Note:\n",
        "\n",
        "Ola, Flipkart, Oyo, Paytm are important startups, so correct their names. There are many errors in startup names, ignore correcting all, just handle important ones.\n",
        "\n",
        "Output Format :\n",
        "\n",
        "startup1\n",
        "\n",
        "startup2\n",
        "\n",
        "startup3"
      ],
      "metadata": {
        "id": "LOoYazc2CS8Q"
      }
    },
    {
      "cell_type": "code",
      "source": [
        "import pandas as pd \n",
        "import numpy as np \n",
        "import matplotlib.pyplot as plt\n",
        "\n",
        "df = pd.read_csv('startup_funding.csv',encoding = 'utf-8')\n",
        "df['AmountInUSD'] = df['AmountInUSD'].apply(lambda x: float(str(x).replace(\",\",\"\")))\n",
        "df['StartupName'] = df['StartupName'].replace(['Flipkart.com','Ola Cabs','Olacabs','Oyo Rooms','Oyorooms','OyoRooms','Paytm Marketplace'],['Flipkart','Ola','Ola','Oyo','Oyo','Oyo','Paytm'])\n",
        "df= df.groupby(by='StartupName')['AmountInUSD'].sum()\n",
        "df = df.sort_values(ascending = False)\n",
        "df=df.nlargest(5)\n",
        "\n",
        "IndustryVertical = df.index\n",
        "amount = df.values\n",
        "plt.pie(amount,labels = IndustryVertical,autopct='%0.2f',counterclock=False,startangle=90,radius=1.5)\n",
        "plt.show()\n",
        "\n",
        "for i in range(len(IndustryVertical)):\n",
        "    print(IndustryVertical[i])"
      ],
      "metadata": {
        "colab": {
          "base_uri": "https://localhost:8080/",
          "height": 402
        },
        "id": "TZG7cnsGCa4y",
        "outputId": "dd3740ec-976b-4e19-c978-b696c8f869b2"
      },
      "execution_count": 40,
      "outputs": [
        {
          "output_type": "display_data",
          "data": {
            "text/plain": [
              "<Figure size 432x288 with 1 Axes>"
            ],
            "image/png": "[encoded data removed]"
          },
          "metadata": {}
        },
        {
          "output_type": "stream",
          "name": "stdout",
          "text": [
            "Paytm\n",
            "Flipkart\n",
            "Ola\n",
            "Snapdeal\n",
            "Oyo\n"
          ]
        }
      ]
    },
    {
      "cell_type": "markdown",
      "source": [
        "##**Funding rounds**"
      ],
      "metadata": {
        "id": "BjZE56DiCm9E"
      }
    },
    {
      "cell_type": "markdown",
      "source": [
        "Given File 'startup_funding.csv'\n",
        "\n",
        "Problem Statement :\n",
        "\n",
        "Find the top 5 startups who received the most number of funding rounds. That means, startups which got fundings maximum number of times.\n",
        "\n",
        "Print the startup name in descending order with respect to the number of funding round as integer value.\n",
        "\n",
        "Note:\n",
        "\n",
        "Ola, Flipkart, Oyo, Paytm are important startups, so correct their names. There are many errors in startup names, ignore correcting all, just handle important ones.\n",
        "\n",
        "Output Format :\n",
        "\n",
        "startup1 number1\n",
        "\n",
        "startup2 number2\n",
        "\n",
        "startup3 number3\n",
        "\n",
        ". . . "
      ],
      "metadata": {
        "id": "JAWfXS9HCsob"
      }
    },
    {
      "cell_type": "code",
      "source": [
        "import pandas as pd \n",
        "import numpy as np \n",
        "import matplotlib.pyplot as plt\n",
        "\n",
        "df = pd.read_csv('startup_funding.csv',encoding = 'utf-8')\n",
        "df['StartupName'] = df['StartupName'].replace(['Flipkart.com','Ola Cabs','Olacabs','Oyo Rooms','Oyorooms','OyoRooms','Paytm Marketplace','OYO Rooms'],['Flipkart','Ola','Ola','Oyo','Oyo','Oyo','Paytm','Oyo'])\n",
        "df = df.groupby(by='StartupName').size()\n",
        "df=df.nlargest(5)\n",
        "\n",
        "StartupName = df.index\n",
        "amount = df.values\n",
        "plt.pie(amount,labels = StartupName,autopct='%0.2f',counterclock=False,startangle=90,radius=1.5)\n",
        "plt.show()\n",
        "\n",
        "for i in range(len(StartupName)):\n",
        "    print(StartupName[i],amount[i])\n"
      ],
      "metadata": {
        "colab": {
          "base_uri": "https://localhost:8080/",
          "height": 387
        },
        "id": "zwSTx4AWC27i",
        "outputId": "28f730a0-9780-4375-9905-eb3dc3d1ab63"
      },
      "execution_count": 41,
      "outputs": [
        {
          "output_type": "display_data",
          "data": {
            "text/plain": [
              "<Figure size 432x288 with 1 Axes>"
            ],
            "image/png": "[encoded data removed]"
          },
          "metadata": {}
        },
        {
          "output_type": "stream",
          "name": "stdout",
          "text": [
            "Ola 9\n",
            "Swiggy 7\n",
            "Oyo 6\n",
            "Paytm 6\n",
            "UrbanClap 6\n"
          ]
        }
      ]
    },
    {
      "cell_type": "markdown",
      "source": [
        "##**Top Investor**"
      ],
      "metadata": {
        "id": "phi57L2CDAfo"
      }
    },
    {
      "cell_type": "markdown",
      "source": [
        "Given File 'startup_funding.csv'\n",
        "\n",
        "Problem Statement :\n",
        "\n",
        "Find the Investors who have invested maximum number of times.\n",
        "\n",
        "Print the investor name and number of times invested as integer value.\n",
        "\n",
        "Note:\n",
        "\n",
        "In startup, multiple investors might have invested. So consider each investor for that startup.\n",
        "\n",
        "Ignore the undisclosed investors.\n",
        "\n",
        "Output Format :\n",
        "\n",
        "investorname number"
      ],
      "metadata": {
        "id": "q-KwaiUaDLoF"
      }
    },
    {
      "cell_type": "code",
      "source": [
        "import csv\n",
        "import numpy as np\n",
        "with open('startup_funding.csv', encoding='utf8') as file_obj:\n",
        "    file_data=csv.DictReader(file_obj, skipinitialspace=True)\n",
        "    investors=[]\n",
        "    for row in file_data:\n",
        "        if not ('Undisclosed' in row['InvestorsName'] or 'undisclosed' in row['InvestorsName']):\n",
        "            for i in row['InvestorsName'].split(','):\n",
        "                investors.append(i.strip())\n",
        "    dic=dict()\n",
        "    for i in investors:\n",
        "        if i in dic.keys():\n",
        "            dic[i]+=1\n",
        "        else:\n",
        "            dic[i]=1\n",
        "    x=[]\n",
        "    y=[]\n",
        "    for i in dic.keys():\n",
        "        x.append(i)\n",
        "        y.append(dic[i])\n",
        "    np_x=np.array(x)\n",
        "    np_y=np.array(y)\n",
        "    np_x=np_x[np.argsort(np_y)]\n",
        "    np_y=np.sort(np_y)\n",
        "    \n",
        "    np_y=np_y[::-1]\n",
        "    np_x=np_x[::-1]\n",
        "    print(np_x[0], np_y[0])"
      ],
      "metadata": {
        "colab": {
          "base_uri": "https://localhost:8080/"
        },
        "id": "bLZWrgYfDTQb",
        "outputId": "ac55e9f9-8243-4ff0-ba05-234cab84f980"
      },
      "execution_count": 42,
      "outputs": [
        {
          "output_type": "stream",
          "name": "stdout",
          "text": [
            "Sequoia Capital 64\n"
          ]
        }
      ]
    }
  ]
}