{
 "cells": [
  {
   "cell_type": "markdown",
   "id": "ce03ffa2",
   "metadata": {},
   "source": [
    "In this project we are going to analyse the sound in urban areas that is urban sound classification. So far we have classified normal statistical data that is mathematical data consisting of numerical and categorical columns. We have also done image classification that is by using the image as input we are going to classify which class is the output for that corresponding image. Now we are going to recognize the sound. We can also use these kind of methods for speech recognition or other sound related tarcks. You can also classify some music or songs. It can be anything. Let's dive into that!!      "
   ]
  },
  {
   "cell_type": "markdown",
   "id": "a64c15b3",
   "metadata": {},
   "source": [
    "## Dataset Information"
   ]
  },
  {
   "cell_type": "markdown",
   "id": "f95afb5a",
   "metadata": {},
   "source": [
    "This dataset contains 8732 labeled sound excerpts (<=4s) of urban sounds from 10 classes:\n",
    "\n",
    "* air_conditioner\n",
    "* car_horn\n",
    "* children_playing\n",
    "* dog_bark\n",
    "* drilling\n",
    "* engine_idling\n",
    "* gun_shot\n",
    "* jackhammer\n",
    "* siren\n",
    "* street_music"
   ]
  },
  {
   "cell_type": "code",
   "execution_count": null,
   "id": "ac8a314b",
   "metadata": {},
   "outputs": [],
   "source": []
  }
 ],
 "metadata": {
  "kernelspec": {
   "display_name": "Python 3 (ipykernel)",
   "language": "python",
   "name": "python3"
  },
  "language_info": {
   "codemirror_mode": {
    "name": "ipython",
    "version": 3
   },
   "file_extension": ".py",
   "mimetype": "text/x-python",
   "name": "python",
   "nbconvert_exporter": "python",
   "pygments_lexer": "ipython3",
   "version": "3.9.13"
  }
 },
 "nbformat": 4,
 "nbformat_minor": 5
}
