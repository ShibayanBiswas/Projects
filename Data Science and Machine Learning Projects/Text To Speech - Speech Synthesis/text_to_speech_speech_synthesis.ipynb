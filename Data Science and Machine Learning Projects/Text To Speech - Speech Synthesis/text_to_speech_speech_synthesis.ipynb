{
 "cells": [
  {
   "cell_type": "markdown",
   "metadata": {
    "id": "KEO58TsUNLaR"
   },
   "source": [
    "For this project we will install the Google text to speech API and the pyttsx3 API and convert a text file into a audio file. The objective of the project is to convert text to speech in real time and convert text to audio file. It uses  pyttsx3 (offline module) that converts text to audio with various customizations."
   ]
  },
  {
   "cell_type": "markdown",
   "metadata": {
    "id": "t07hCquGOrvT"
   },
   "source": [
    "## Pyttsx - Offline"
   ]
  },
  {
   "cell_type": "markdown",
   "metadata": {
    "id": "F0hFckq4QEpR"
   },
   "source": [
    "We will install the pyttsx3 module."
   ]
  },
  {
   "cell_type": "code",
   "execution_count": null,
   "metadata": {
    "colab": {
     "base_uri": "https://localhost:8080/"
    },
    "id": "i4jGBVW1Nhyc",
    "outputId": "5746849a-f120-40af-811e-f5c1ccce2636"
   },
   "outputs": [],
   "source": [
    "# install the module\n",
    "!pip install pyttsx3"
   ]
  },
  {
   "cell_type": "markdown",
   "metadata": {
    "id": "cULAj3O_YetQ"
   },
   "source": [
    "## Import Modules"
   ]
  },
  {
   "cell_type": "markdown",
   "metadata": {
    "id": "kbT8RDn1ZFS0"
   },
   "source": [
    "We will import the pyttsx3 module."
   ]
  },
  {
   "cell_type": "code",
   "execution_count": 2,
   "metadata": {
    "id": "LDPAhGuVYtIQ"
   },
   "outputs": [],
   "source": [
    "import pyttsx3"
   ]
  },
  {
   "cell_type": "markdown",
   "metadata": {
    "id": "RPtoS9uTY1DN"
   },
   "source": [
    "## Speech Synthesis in Male Voice"
   ]
  },
  {
   "cell_type": "markdown",
   "metadata": {
    "id": "g-SKSxTmZPER"
   },
   "source": [
    "We will write a function to convert the text into speech in male voice."
   ]
  },
  {
   "cell_type": "code",
   "execution_count": 3,
   "metadata": {
    "id": "n1Bn-G8wZB9K"
   },
   "outputs": [],
   "source": [
    "def Male_Voice(text):\n",
    "  audio = pyttsx3.init()\n",
    "  voice = audio.getProperty('voices')\n",
    "  rate = audio.getProperty('rate')\n",
    "  audio.setProperty('rate', 140)\n",
    "  audio.setProperty('volume', 0.8)\n",
    "  audio.setProperty('voice', voice[0].id)\n",
    "  audio.save_to_file(text, 'speech.mp3')\n",
    "  audio.runAndWait()"
   ]
  },
  {
   "cell_type": "markdown",
   "metadata": {
    "id": "wb3N2PRIbfRY"
   },
   "source": [
    "* <b>pyttsx3.init()</b> - Initialization of the module\n",
    "\n",
    "* <b>setProperty('rate', 140)</b> - Set speed of audio\n",
    "\n",
    "* <b>setProperty('volume', 0.8)</b> - Set volume of audio\n",
    "\n",
    "* <b>setProperty('voice', voices[0].id)</b> - Change voice type to male\n",
    "\n",
    "* <b>save_to_file()</b> - stores the audio file\n",
    "\n",
    "* <b>runAndWait()</b> - stream the converted audio for real time listening\n",
    "\n",
    "Check the documentation to see more customization available for the audio."
   ]
  },
  {
   "cell_type": "markdown",
   "metadata": {
    "id": "-_0sPHWtb4hb"
   },
   "source": [
    "## Speech Synthesis in Female Voice"
   ]
  },
  {
   "cell_type": "markdown",
   "metadata": {
    "id": "xvoHnHcgcSZz"
   },
   "source": [
    "We will write a function to convert the text into speech in male voice."
   ]
  },
  {
   "cell_type": "code",
   "execution_count": 4,
   "metadata": {
    "id": "WhidrrVFcXxM"
   },
   "outputs": [],
   "source": [
    "def Female_Voice(text):\n",
    "  audio = pyttsx3.init()\n",
    "  voice = audio.getProperty('voices')\n",
    "  rate = audio.getProperty('rate')\n",
    "  audio.setProperty('rate', 140)\n",
    "  audio.setProperty('volume', 0.8)\n",
    "  audio.setProperty('voice', voice[1].id)\n",
    "  audio.save_to_file(text, 'speech.mp3')\n",
    "  audio.runAndWait()"
   ]
  },
  {
   "cell_type": "markdown",
   "metadata": {
    "id": "6g1h8AZyc0Si"
   },
   "source": [
    "* <b>pyttsx3.init()</b> - Initialization of the module\n",
    "\n",
    "* <b>setProperty('rate', 140)</b> - Set speed of audio\n",
    "\n",
    "* <b>setProperty('volume', 0.8)</b> - Set volume of audio\n",
    "\n",
    "* <b>setProperty('voice', voices[1].id)</b> - Change voice type to female\n",
    "\n",
    "* <b>save_to_file()</b> - stores the audio file\n",
    "\n",
    "* <b>runAndWait()</b> - stream the converted audio for real time listening\n",
    "\n",
    "Check the documentation to see more customization available for the audio."
   ]
  },
  {
   "cell_type": "markdown",
   "metadata": {
    "id": "soiccXiyc9tq"
   },
   "source": [
    "## Driver Function for Speech Synthesis"
   ]
  },
  {
   "cell_type": "code",
   "execution_count": 7,
   "metadata": {
    "colab": {
     "base_uri": "https://localhost:8080/"
    },
    "id": "A6T1xSYFdzTJ",
    "outputId": "5d189dba-49b0-4983-833a-8a4c25d258cb"
   },
   "outputs": [
    {
     "name": "stdout",
     "output_type": "stream",
     "text": [
      "\u001b[1mEnter voice as Male or Female : \u001b[0m\n",
      "Male\n",
      "\n",
      "\n",
      "\u001b[1mEnter the text for Speech Synthesis : \u001b[0m\n",
      "Data science is a field that studies data and how to extract meaning from it, whereas machine learning is a field devoted to understanding and building methods that utilize data to improve performance or inform predictions. Machine learning is a branch of artificial intelligence. In recent years, machine learning and artificial intelligence (AI) have dominated parts of data science, playing a critical role in data analytics and business intelligence. Machine learning automates the process of data analysis and goes further to make predictions based on collecting and analyzing large amounts of data on certain populations. Models and algorithms are built to make this happen.\n",
      "\n",
      "\n",
      "The Text has been Synthesized to Speech in Male Voice Successfully !!\n"
     ]
    }
   ],
   "source": [
    "def main():\n",
    "  try:\n",
    "    print(\"\\033[1m\" + \"Enter voice as Male or Female : \" + \"\\033[0m\")\n",
    "    voice = input()\n",
    "    print(\"\\n\")\n",
    "    if voice == \"Male\" :\n",
    "      print(\"\\033[1m\" + \"Enter the text for Speech Synthesis : \" + \"\\033[0m\")\n",
    "      text = input()\n",
    "      print(\"\\n\")\n",
    "      Male_Voice(text)\n",
    "      print(\"The Text has been Synthesized to Speech in Male Voice Successfully !!\")\n",
    "    elif voice == \"Female\" :\n",
    "      text = input(\"Enter the text for speech synthesis : \")\n",
    "      Female_Voice(text)\n",
    "      print(\"The Text has been Synthesized to Speech in Female Voice Successfully !!\")\n",
    "    else :\n",
    "      print(\"Close the Program and run it again. This time use the correct voice Parameter !!\")\n",
    "  except:\n",
    "    print(\"Some internal error has occured. Please close the program and run it again !!\")\n",
    "\n",
    "if __name__ == \"__main__\":\n",
    "  main()"
   ]
  },
  {
   "cell_type": "markdown",
   "metadata": {},
   "source": [
    "## Final Thoughts"
   ]
  },
  {
   "cell_type": "markdown",
   "metadata": {},
   "source": [
    "* Two best modules to convert any text to speech, you may use other similar modules by your preference.\n",
    "\n",
    "* The pyttsx3 module has many customization tools for the audio.\n",
    "\n",
    "* Very useful tool for educational purposes for learning or fortifying a specific language."
   ]
  }
 ],
 "metadata": {
  "colab": {
   "provenance": []
  },
  "kernelspec": {
   "display_name": "Python 3 (ipykernel)",
   "language": "python",
   "name": "python3"
  },
  "language_info": {
   "codemirror_mode": {
    "name": "ipython",
    "version": 3
   },
   "file_extension": ".py",
   "mimetype": "text/x-python",
   "name": "python",
   "nbconvert_exporter": "python",
   "pygments_lexer": "ipython3",
   "version": "3.9.13"
  }
 },
 "nbformat": 4,
 "nbformat_minor": 1
}
