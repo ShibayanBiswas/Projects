{
 "cells": [
  {
   "cell_type": "code",
   "execution_count": 1,
   "id": "2e0ce86c",
   "metadata": {},
   "outputs": [],
   "source": [
    "## import the libraries\n",
    "from binance.client import Client\n",
    "import pandas as pd\n",
    "import requests"
   ]
  },
  {
   "cell_type": "code",
   "execution_count": 2,
   "id": "07404aca",
   "metadata": {},
   "outputs": [],
   "source": [
    "## connect with python\n",
    "api = '33ced6236b5dcc64077883472fd37a3aae566b82c13008468d8239bae0bd158d'\n",
    "api_secret = 'e053e6ff070a9f4b6881457848b47bac4e1c03b41b9ad2f8f2fa9a7b25e81559'\n",
    "\n",
    "client = Client(api, api_secret, tld=\"com\", testnet=True)"
   ]
  },
  {
   "cell_type": "code",
   "execution_count": 3,
   "id": "7fca2c2e",
   "metadata": {},
   "outputs": [
    {
     "name": "stdout",
     "output_type": "stream",
     "text": [
      "  asset   walletBalance unrealizedProfit   marginBalance maintMargin  \\\n",
      "0   ETH      0.00000000       0.00000000      0.00000000  0.00000000   \n",
      "1   BTC      0.00000000       0.00000000      0.00000000  0.00000000   \n",
      "2   BNB      0.00000000       0.00000000      0.00000000  0.00000000   \n",
      "3  USDT  12875.89664350       0.00000000  12875.89664350  0.00000000   \n",
      "4  USDC      0.00000000       0.00000000      0.00000000  0.00000000   \n",
      "5  BUSD      0.00000000       0.00000000      0.00000000  0.00000000   \n",
      "\n",
      "  initialMargin positionInitialMargin openOrderInitialMargin  \\\n",
      "0    0.00000000            0.00000000             0.00000000   \n",
      "1    0.00000000            0.00000000             0.00000000   \n",
      "2    0.00000000            0.00000000             0.00000000   \n",
      "3    0.00000000            0.00000000             0.00000000   \n",
      "4    0.00000000            0.00000000             0.00000000   \n",
      "5    0.00000000            0.00000000             0.00000000   \n",
      "\n",
      "  maxWithdrawAmount crossWalletBalance  crossUnPnl availableBalance  \\\n",
      "0        0.00000000         0.00000000  0.00000000       5.30509842   \n",
      "1        0.00000000         0.00000000  0.00000000       0.28699039   \n",
      "2        0.00000000         0.00000000  0.00000000      40.44528773   \n",
      "3    12875.89664350     12875.89664350  0.00000000   12873.32173948   \n",
      "4        0.00000000         0.00000000  0.00000000   12622.45307243   \n",
      "5        0.00000000         0.00000000  0.00000000   12644.04212471   \n",
      "\n",
      "   marginAvailable     updateTime  \n",
      "0             True              0  \n",
      "1             True              0  \n",
      "2             True              0  \n",
      "3             True  1704126186897  \n",
      "4             True              0  \n",
      "5             True              0  \n"
     ]
    }
   ],
   "source": [
    "## fetch current account balance\n",
    "def get_balance():\n",
    "    x = client.futures_account()\n",
    "    df = pd.DataFrame(x['assets'])\n",
    "    print(df)\n",
    "    \n",
    "get_balance()"
   ]
  },
  {
   "cell_type": "markdown",
   "id": "c931abf0",
   "metadata": {},
   "source": [
    "## Placing Buy Limit and Sell Limit Orders"
   ]
  },
  {
   "cell_type": "code",
   "execution_count": 4,
   "id": "67d07d50",
   "metadata": {},
   "outputs": [],
   "source": [
    "## placing buy limit order\n",
    "def buy_limit(symbol,quantity,price):\n",
    "    output = client.futures_create_order(\n",
    "        symbol=symbol,\n",
    "        side=Client.SIDE_BUY,\n",
    "        type=Client.FUTURE_ORDER_TYPE_LIMIT,\n",
    "        timeInForce=Client.TIME_IN_FORCE_GTC,\n",
    "        quantity=quantity,\n",
    "        price=price,\n",
    "    )\n",
    "    print(output)"
   ]
  },
  {
   "cell_type": "code",
   "execution_count": 5,
   "id": "f8e9e1b0",
   "metadata": {},
   "outputs": [],
   "source": [
    "## placing sell limit order\n",
    "def sell_limit(symbol,quantity,price):\n",
    "    output = client.futures_create_order(\n",
    "        symbol=symbol,\n",
    "        side=Client.SIDE_SELL,\n",
    "        type=Client.FUTURE_ORDER_TYPE_LIMIT,\n",
    "        timeInForce=Client.TIME_IN_FORCE_GTC,\n",
    "        quantity=quantity,\n",
    "        price=price,\n",
    "    )\n",
    "    print(output)"
   ]
  },
  {
   "cell_type": "code",
   "execution_count": 6,
   "id": "44bb51f4",
   "metadata": {},
   "outputs": [
    {
     "name": "stdout",
     "output_type": "stream",
     "text": [
      "{'orderId': 3604452268, 'symbol': 'BTCUSDT', 'status': 'NEW', 'clientOrderId': '478uRZeqYJsMUeFsyze9T0', 'price': '43000.00', 'avgPrice': '0.00', 'origQty': '0.020', 'executedQty': '0.000', 'cumQty': '0.000', 'cumQuote': '0.00000', 'timeInForce': 'GTC', 'type': 'LIMIT', 'reduceOnly': False, 'closePosition': False, 'side': 'BUY', 'positionSide': 'BOTH', 'stopPrice': '0.00', 'workingType': 'CONTRACT_PRICE', 'priceProtect': False, 'origType': 'LIMIT', 'priceMatch': 'NONE', 'selfTradePreventionMode': 'NONE', 'goodTillDate': 0, 'updateTime': 1704126825404}\n"
     ]
    }
   ],
   "source": [
    "## placing buy limit order\n",
    "buy_limit(\"BTCUSDT\", 0.02, 43000)"
   ]
  },
  {
   "cell_type": "code",
   "execution_count": 7,
   "id": "84937010",
   "metadata": {},
   "outputs": [
    {
     "name": "stdout",
     "output_type": "stream",
     "text": [
      "{'orderId': 3604452326, 'symbol': 'BTCUSDT', 'status': 'NEW', 'clientOrderId': 'RP5chEvlekxLqoBuoOmZfu', 'price': '44000.00', 'avgPrice': '0.00', 'origQty': '0.020', 'executedQty': '0.000', 'cumQty': '0.000', 'cumQuote': '0.00000', 'timeInForce': 'GTC', 'type': 'LIMIT', 'reduceOnly': False, 'closePosition': False, 'side': 'SELL', 'positionSide': 'BOTH', 'stopPrice': '0.00', 'workingType': 'CONTRACT_PRICE', 'priceProtect': False, 'origType': 'LIMIT', 'priceMatch': 'NONE', 'selfTradePreventionMode': 'NONE', 'goodTillDate': 0, 'updateTime': 1704126825858}\n"
     ]
    }
   ],
   "source": [
    "## placing sell limit order\n",
    "sell_limit(\"BTCUSDT\", 0.02, 44000)"
   ]
  },
  {
   "cell_type": "markdown",
   "id": "deb980b2",
   "metadata": {},
   "source": [
    "## Closing Open Orders "
   ]
  },
  {
   "cell_type": "code",
   "execution_count": 8,
   "id": "ba1b775b",
   "metadata": {},
   "outputs": [],
   "source": [
    "## closing all open orders\n",
    "def close_orders(symbol):\n",
    "    x = client.futures_get_open_orders(symbol=symbol)\n",
    "    df = pd.DataFrame(x)\n",
    "    for index in df.index:\n",
    "        client.futures_cancel_order(symbol=symbol,orderId=df[\"orderId\"][index])\n",
    "        \n",
    "close_orders(\"BTCUSDT\")"
   ]
  },
  {
   "cell_type": "code",
   "execution_count": 9,
   "id": "fde04161",
   "metadata": {},
   "outputs": [],
   "source": [
    "## closing buy orders\n",
    "def close_buy_orders(symbol):\n",
    "    x = client.futures_get_open_orders(symbol=symbol)\n",
    "    df = pd.DataFrame(x)\n",
    "    df = df[df[\"side\"]==\"BUY\"]\n",
    "    for index in df.index:\n",
    "        client.futures_cancel_order(symbol=symbol,orderId=df[\"orderId\"][index])"
   ]
  },
  {
   "cell_type": "code",
   "execution_count": 10,
   "id": "9b0f0723",
   "metadata": {},
   "outputs": [],
   "source": [
    "## closing sell orders\n",
    "def close_sell_orders(symbol):\n",
    "    x = client.futures_get_open_orders(symbol=symbol)\n",
    "    df = pd.DataFrame(x)\n",
    "    df = df[df[\"side\"]==\"SELL\"]\n",
    "    for index in df.index:\n",
    "        client.futures_cancel_order(symbol=symbol,orderId=df[\"orderId\"][index])"
   ]
  },
  {
   "cell_type": "markdown",
   "id": "80a1011f",
   "metadata": {},
   "source": [
    "## Get the Direction of Running Positions"
   ]
  },
  {
   "cell_type": "code",
   "execution_count": 11,
   "id": "f1a606ef",
   "metadata": {},
   "outputs": [],
   "source": [
    "## getting direction of running positions\n",
    "def get_direction(symbol):\n",
    "    x = client.futures_position_information(symbol=symbol)\n",
    "    df = pd.DataFrame(x)\n",
    "    if float(df[\"positionAmt\"].sum()) > 0:\n",
    "        return \"LONG\"\n",
    "    if float(df[\"positionAmt\"].sum()) < 0:\n",
    "        return \"SHORT\"\n",
    "    else:\n",
    "        return \"FLAT\""
   ]
  },
  {
   "cell_type": "markdown",
   "id": "0b9261a7",
   "metadata": {},
   "source": [
    "## Live Streaming Current Market Price"
   ]
  },
  {
   "cell_type": "code",
   "execution_count": 12,
   "id": "c4a6aa5c",
   "metadata": {},
   "outputs": [],
   "source": [
    "## streaming price\n",
    "def get_current_price(symbol):\n",
    "    response = requests.get(f'https://testnet.binancefuture.com/fapi/v1/ticker/price?symbol={symbol}')\n",
    "    price = float(response.json()['price'])\n",
    "    return price"
   ]
  },
  {
   "cell_type": "code",
   "execution_count": null,
   "id": "14ff2dc8",
   "metadata": {},
   "outputs": [],
   "source": [
    "try:  \n",
    "    while True:\n",
    "        price = get_current_price(\"BTCUSDT\")\n",
    "        print(price)\n",
    "except KeyboardInterrupt:\n",
    "    pass"
   ]
  },
  {
   "cell_type": "markdown",
   "id": "68689ef6",
   "metadata": {},
   "source": [
    "## Drawing the Grid with Python"
   ]
  },
  {
   "cell_type": "code",
   "execution_count": 14,
   "id": "680d5ec7",
   "metadata": {},
   "outputs": [],
   "source": [
    "symbol = \"BTCUSDT\"\n",
    "no_of_decimals = 1\n",
    "volume = 0.01\n",
    "proportion = 0.04\n",
    "n = 10"
   ]
  },
  {
   "cell_type": "code",
   "execution_count": 15,
   "id": "12dcff1f",
   "metadata": {},
   "outputs": [],
   "source": [
    "## getting the market price\n",
    "def get_mark_price(symbol):\n",
    "    x = client.get_symbol_ticker(symbol=symbol)\n",
    "    price = float(x[\"price\"])\n",
    "    return price"
   ]
  },
  {
   "cell_type": "code",
   "execution_count": 16,
   "id": "e4e1683d",
   "metadata": {},
   "outputs": [
    {
     "name": "stdout",
     "output_type": "stream",
     "text": [
      "{'orderId': 3604452738, 'symbol': 'BTCUSDT', 'status': 'NEW', 'clientOrderId': 'b4n0kLEQbC2TIgamjeQB3o', 'price': '42738.60', 'avgPrice': '0.00', 'origQty': '0.010', 'executedQty': '0.000', 'cumQty': '0.000', 'cumQuote': '0.00000', 'timeInForce': 'GTC', 'type': 'LIMIT', 'reduceOnly': False, 'closePosition': False, 'side': 'SELL', 'positionSide': 'BOTH', 'stopPrice': '0.00', 'workingType': 'CONTRACT_PRICE', 'priceProtect': False, 'origType': 'LIMIT', 'priceMatch': 'NONE', 'selfTradePreventionMode': 'NONE', 'goodTillDate': 0, 'updateTime': 1704126833660}\n",
      "{'orderId': 3604452792, 'symbol': 'BTCUSDT', 'status': 'NEW', 'clientOrderId': '2fTVXUELgU5mPXMuMK0UdQ', 'price': '42765.90', 'avgPrice': '0.00', 'origQty': '0.010', 'executedQty': '0.000', 'cumQty': '0.000', 'cumQuote': '0.00000', 'timeInForce': 'GTC', 'type': 'LIMIT', 'reduceOnly': False, 'closePosition': False, 'side': 'SELL', 'positionSide': 'BOTH', 'stopPrice': '0.00', 'workingType': 'CONTRACT_PRICE', 'priceProtect': False, 'origType': 'LIMIT', 'priceMatch': 'NONE', 'selfTradePreventionMode': 'NONE', 'goodTillDate': 0, 'updateTime': 1704126834103}\n",
      "{'orderId': 3604452829, 'symbol': 'BTCUSDT', 'status': 'NEW', 'clientOrderId': 'UPYArGd6gG8DUnMpJTtmg9', 'price': '42800.10', 'avgPrice': '0.00', 'origQty': '0.010', 'executedQty': '0.000', 'cumQty': '0.000', 'cumQuote': '0.00000', 'timeInForce': 'GTC', 'type': 'LIMIT', 'reduceOnly': False, 'closePosition': False, 'side': 'SELL', 'positionSide': 'BOTH', 'stopPrice': '0.00', 'workingType': 'CONTRACT_PRICE', 'priceProtect': False, 'origType': 'LIMIT', 'priceMatch': 'NONE', 'selfTradePreventionMode': 'NONE', 'goodTillDate': 0, 'updateTime': 1704126834541}\n",
      "{'orderId': 3604452851, 'symbol': 'BTCUSDT', 'status': 'NEW', 'clientOrderId': 'lEuwqBHzVx9eT2Iw8NZvkO', 'price': '42841.10', 'avgPrice': '0.00', 'origQty': '0.010', 'executedQty': '0.000', 'cumQty': '0.000', 'cumQuote': '0.00000', 'timeInForce': 'GTC', 'type': 'LIMIT', 'reduceOnly': False, 'closePosition': False, 'side': 'SELL', 'positionSide': 'BOTH', 'stopPrice': '0.00', 'workingType': 'CONTRACT_PRICE', 'priceProtect': False, 'origType': 'LIMIT', 'priceMatch': 'NONE', 'selfTradePreventionMode': 'NONE', 'goodTillDate': 0, 'updateTime': 1704126834995}\n",
      "{'orderId': 3604452859, 'symbol': 'BTCUSDT', 'status': 'NEW', 'clientOrderId': 'OBxsCMOQp5hZkcXFeZ3rRT', 'price': '42888.90', 'avgPrice': '0.00', 'origQty': '0.010', 'executedQty': '0.000', 'cumQty': '0.000', 'cumQuote': '0.00000', 'timeInForce': 'GTC', 'type': 'LIMIT', 'reduceOnly': False, 'closePosition': False, 'side': 'SELL', 'positionSide': 'BOTH', 'stopPrice': '0.00', 'workingType': 'CONTRACT_PRICE', 'priceProtect': False, 'origType': 'LIMIT', 'priceMatch': 'NONE', 'selfTradePreventionMode': 'NONE', 'goodTillDate': 0, 'updateTime': 1704126835479}\n",
      "{'orderId': 3604452871, 'symbol': 'BTCUSDT', 'status': 'NEW', 'clientOrderId': 's7t3oK3QH0ahQt67RabUjM', 'price': '42943.60', 'avgPrice': '0.00', 'origQty': '0.010', 'executedQty': '0.000', 'cumQty': '0.000', 'cumQuote': '0.00000', 'timeInForce': 'GTC', 'type': 'LIMIT', 'reduceOnly': False, 'closePosition': False, 'side': 'SELL', 'positionSide': 'BOTH', 'stopPrice': '0.00', 'workingType': 'CONTRACT_PRICE', 'priceProtect': False, 'origType': 'LIMIT', 'priceMatch': 'NONE', 'selfTradePreventionMode': 'NONE', 'goodTillDate': 0, 'updateTime': 1704126835999}\n",
      "{'orderId': 3604452879, 'symbol': 'BTCUSDT', 'status': 'NEW', 'clientOrderId': '4V56GLEhaGLQnvpw7a3vWF', 'price': '43005.10', 'avgPrice': '0.00', 'origQty': '0.010', 'executedQty': '0.000', 'cumQty': '0.000', 'cumQuote': '0.00000', 'timeInForce': 'GTC', 'type': 'LIMIT', 'reduceOnly': False, 'closePosition': False, 'side': 'SELL', 'positionSide': 'BOTH', 'stopPrice': '0.00', 'workingType': 'CONTRACT_PRICE', 'priceProtect': False, 'origType': 'LIMIT', 'priceMatch': 'NONE', 'selfTradePreventionMode': 'NONE', 'goodTillDate': 0, 'updateTime': 1704126836525}\n",
      "{'orderId': 3604452898, 'symbol': 'BTCUSDT', 'status': 'NEW', 'clientOrderId': 'P8qpSOXPl4fidaXneWYEkt', 'price': '43073.50', 'avgPrice': '0.00', 'origQty': '0.010', 'executedQty': '0.000', 'cumQty': '0.000', 'cumQuote': '0.00000', 'timeInForce': 'GTC', 'type': 'LIMIT', 'reduceOnly': False, 'closePosition': False, 'side': 'SELL', 'positionSide': 'BOTH', 'stopPrice': '0.00', 'workingType': 'CONTRACT_PRICE', 'priceProtect': False, 'origType': 'LIMIT', 'priceMatch': 'NONE', 'selfTradePreventionMode': 'NONE', 'goodTillDate': 0, 'updateTime': 1704126837136}\n",
      "{'orderId': 3604452932, 'symbol': 'BTCUSDT', 'status': 'NEW', 'clientOrderId': 'WUAhxrMB0DxPQBRq3etTKs', 'price': '43148.60', 'avgPrice': '0.00', 'origQty': '0.010', 'executedQty': '0.000', 'cumQty': '0.000', 'cumQuote': '0.00000', 'timeInForce': 'GTC', 'type': 'LIMIT', 'reduceOnly': False, 'closePosition': False, 'side': 'SELL', 'positionSide': 'BOTH', 'stopPrice': '0.00', 'workingType': 'CONTRACT_PRICE', 'priceProtect': False, 'origType': 'LIMIT', 'priceMatch': 'NONE', 'selfTradePreventionMode': 'NONE', 'goodTillDate': 0, 'updateTime': 1704126837720}\n",
      "{'orderId': 3604453001, 'symbol': 'BTCUSDT', 'status': 'NEW', 'clientOrderId': 'xejElMUQpd9EQExPY6jHfd', 'price': '43230.70', 'avgPrice': '0.00', 'origQty': '0.010', 'executedQty': '0.000', 'cumQty': '0.000', 'cumQuote': '0.00000', 'timeInForce': 'GTC', 'type': 'LIMIT', 'reduceOnly': False, 'closePosition': False, 'side': 'SELL', 'positionSide': 'BOTH', 'stopPrice': '0.00', 'workingType': 'CONTRACT_PRICE', 'priceProtect': False, 'origType': 'LIMIT', 'priceMatch': 'NONE', 'selfTradePreventionMode': 'NONE', 'goodTillDate': 0, 'updateTime': 1704126838377}\n",
      "{'orderId': 3604453026, 'symbol': 'BTCUSDT', 'status': 'NEW', 'clientOrderId': 'tu79npE7NtWcWP1DSl6Ipy', 'price': '42663.40', 'avgPrice': '0.00', 'origQty': '0.010', 'executedQty': '0.000', 'cumQty': '0.000', 'cumQuote': '0.00000', 'timeInForce': 'GTC', 'type': 'LIMIT', 'reduceOnly': False, 'closePosition': False, 'side': 'BUY', 'positionSide': 'BOTH', 'stopPrice': '0.00', 'workingType': 'CONTRACT_PRICE', 'priceProtect': False, 'origType': 'LIMIT', 'priceMatch': 'NONE', 'selfTradePreventionMode': 'NONE', 'goodTillDate': 0, 'updateTime': 1704126839044}\n",
      "{'orderId': 3604453028, 'symbol': 'BTCUSDT', 'status': 'NEW', 'clientOrderId': '0UicEFCtpqYJI1f1WfV03V', 'price': '42608.70', 'avgPrice': '0.00', 'origQty': '0.010', 'executedQty': '0.000', 'cumQty': '0.000', 'cumQuote': '0.00000', 'timeInForce': 'GTC', 'type': 'LIMIT', 'reduceOnly': False, 'closePosition': False, 'side': 'BUY', 'positionSide': 'BOTH', 'stopPrice': '0.00', 'workingType': 'CONTRACT_PRICE', 'priceProtect': False, 'origType': 'LIMIT', 'priceMatch': 'NONE', 'selfTradePreventionMode': 'NONE', 'goodTillDate': 0, 'updateTime': 1704126839238}\n",
      "{'orderId': 3604453031, 'symbol': 'BTCUSDT', 'status': 'NEW', 'clientOrderId': 'ahVW8J36vyUz4krM2dNUMd', 'price': '42554.00', 'avgPrice': '0.00', 'origQty': '0.010', 'executedQty': '0.000', 'cumQty': '0.000', 'cumQuote': '0.00000', 'timeInForce': 'GTC', 'type': 'LIMIT', 'reduceOnly': False, 'closePosition': False, 'side': 'BUY', 'positionSide': 'BOTH', 'stopPrice': '0.00', 'workingType': 'CONTRACT_PRICE', 'priceProtect': False, 'origType': 'LIMIT', 'priceMatch': 'NONE', 'selfTradePreventionMode': 'NONE', 'goodTillDate': 0, 'updateTime': 1704126839423}\n",
      "{'orderId': 3604453035, 'symbol': 'BTCUSDT', 'status': 'NEW', 'clientOrderId': '9yNXiYDrBWiEe9Q80Ygs6Q', 'price': '42499.30', 'avgPrice': '0.00', 'origQty': '0.010', 'executedQty': '0.000', 'cumQty': '0.000', 'cumQuote': '0.00000', 'timeInForce': 'GTC', 'type': 'LIMIT', 'reduceOnly': False, 'closePosition': False, 'side': 'BUY', 'positionSide': 'BOTH', 'stopPrice': '0.00', 'workingType': 'CONTRACT_PRICE', 'priceProtect': False, 'origType': 'LIMIT', 'priceMatch': 'NONE', 'selfTradePreventionMode': 'NONE', 'goodTillDate': 0, 'updateTime': 1704126839624}\n",
      "{'orderId': 3604453038, 'symbol': 'BTCUSDT', 'status': 'NEW', 'clientOrderId': 'Pt5hsQNpkba1AQBw9FK88O', 'price': '42444.70', 'avgPrice': '0.00', 'origQty': '0.010', 'executedQty': '0.000', 'cumQty': '0.000', 'cumQuote': '0.00000', 'timeInForce': 'GTC', 'type': 'LIMIT', 'reduceOnly': False, 'closePosition': False, 'side': 'BUY', 'positionSide': 'BOTH', 'stopPrice': '0.00', 'workingType': 'CONTRACT_PRICE', 'priceProtect': False, 'origType': 'LIMIT', 'priceMatch': 'NONE', 'selfTradePreventionMode': 'NONE', 'goodTillDate': 0, 'updateTime': 1704126839804}\n",
      "{'orderId': 3604453043, 'symbol': 'BTCUSDT', 'status': 'NEW', 'clientOrderId': 'Hsho6IT0NBpolv8MSZVxch', 'price': '42390.00', 'avgPrice': '0.00', 'origQty': '0.010', 'executedQty': '0.000', 'cumQty': '0.000', 'cumQuote': '0.00000', 'timeInForce': 'GTC', 'type': 'LIMIT', 'reduceOnly': False, 'closePosition': False, 'side': 'BUY', 'positionSide': 'BOTH', 'stopPrice': '0.00', 'workingType': 'CONTRACT_PRICE', 'priceProtect': False, 'origType': 'LIMIT', 'priceMatch': 'NONE', 'selfTradePreventionMode': 'NONE', 'goodTillDate': 0, 'updateTime': 1704126839988}\n"
     ]
    },
    {
     "name": "stdout",
     "output_type": "stream",
     "text": [
      "{'orderId': 3604453051, 'symbol': 'BTCUSDT', 'status': 'NEW', 'clientOrderId': 'YZcjmaHwiY6M8hIVJsrbpK', 'price': '42335.30', 'avgPrice': '0.00', 'origQty': '0.010', 'executedQty': '0.000', 'cumQty': '0.000', 'cumQuote': '0.00000', 'timeInForce': 'GTC', 'type': 'LIMIT', 'reduceOnly': False, 'closePosition': False, 'side': 'BUY', 'positionSide': 'BOTH', 'stopPrice': '0.00', 'workingType': 'CONTRACT_PRICE', 'priceProtect': False, 'origType': 'LIMIT', 'priceMatch': 'NONE', 'selfTradePreventionMode': 'NONE', 'goodTillDate': 0, 'updateTime': 1704126840189}\n",
      "{'orderId': 3604453072, 'symbol': 'BTCUSDT', 'status': 'NEW', 'clientOrderId': 'z4yq0GzDRGrBajoSHvOLFe', 'price': '42280.60', 'avgPrice': '0.00', 'origQty': '0.010', 'executedQty': '0.000', 'cumQty': '0.000', 'cumQuote': '0.00000', 'timeInForce': 'GTC', 'type': 'LIMIT', 'reduceOnly': False, 'closePosition': False, 'side': 'BUY', 'positionSide': 'BOTH', 'stopPrice': '0.00', 'workingType': 'CONTRACT_PRICE', 'priceProtect': False, 'origType': 'LIMIT', 'priceMatch': 'NONE', 'selfTradePreventionMode': 'NONE', 'goodTillDate': 0, 'updateTime': 1704126840384}\n",
      "{'orderId': 3604453102, 'symbol': 'BTCUSDT', 'status': 'NEW', 'clientOrderId': 'XFhvjDkuNxx0UvP9y7yiwA', 'price': '42225.90', 'avgPrice': '0.00', 'origQty': '0.010', 'executedQty': '0.000', 'cumQty': '0.000', 'cumQuote': '0.00000', 'timeInForce': 'GTC', 'type': 'LIMIT', 'reduceOnly': False, 'closePosition': False, 'side': 'BUY', 'positionSide': 'BOTH', 'stopPrice': '0.00', 'workingType': 'CONTRACT_PRICE', 'priceProtect': False, 'origType': 'LIMIT', 'priceMatch': 'NONE', 'selfTradePreventionMode': 'NONE', 'goodTillDate': 0, 'updateTime': 1704126840584}\n",
      "{'orderId': 3604453130, 'symbol': 'BTCUSDT', 'status': 'NEW', 'clientOrderId': 'wMJqXR7ZzxajHrrYR57PVE', 'price': '42171.30', 'avgPrice': '0.00', 'origQty': '0.010', 'executedQty': '0.000', 'cumQty': '0.000', 'cumQuote': '0.00000', 'timeInForce': 'GTC', 'type': 'LIMIT', 'reduceOnly': False, 'closePosition': False, 'side': 'BUY', 'positionSide': 'BOTH', 'stopPrice': '0.00', 'workingType': 'CONTRACT_PRICE', 'priceProtect': False, 'origType': 'LIMIT', 'priceMatch': 'NONE', 'selfTradePreventionMode': 'NONE', 'goodTillDate': 0, 'updateTime': 1704126840764}\n"
     ]
    }
   ],
   "source": [
    "## placing orders like a grid\n",
    "def draw_grid(n):\n",
    "    pct_change = 1\n",
    "    adj_sell = 1.2\n",
    "    current_price = get_mark_price(symbol)\n",
    "    for i in range(n):\n",
    "        sell_price = float(round(((pct_change/100)*current_price*adj_sell*proportion) + current_price, no_of_decimals))\n",
    "        sell_limit(symbol,volume,sell_price)\n",
    "        pct_change += 1\n",
    "        adj_sell += 0.2\n",
    "\n",
    "    pct_change = -1\n",
    "    adj_buy = 1.2\n",
    "    current_price = get_mark_price(symbol)\n",
    "    for i in range(n):\n",
    "        buy_price = float(round(((pct_change/100)*current_price*adj_sell*proportion) + current_price, no_of_decimals))\n",
    "        buy_limit(symbol,volume,buy_price)\n",
    "        pct_change -= 1\n",
    "        adj_buy += 0.2\n",
    "        \n",
    "draw_grid(n)"
   ]
  },
  {
   "cell_type": "markdown",
   "id": "50c6d77d",
   "metadata": {},
   "source": [
    "## Calculating the Take Profit Level"
   ]
  },
  {
   "cell_type": "code",
   "execution_count": 17,
   "id": "bbf3479a",
   "metadata": {},
   "outputs": [],
   "source": [
    "## calculate take profit price\n",
    "def cal_tp_level(symbol,tp):\n",
    "    try:\n",
    "        x = client.futures_position_information(symbol=symbol)\n",
    "        df = pd.DataFrame(x)\n",
    "        df = df.loc[df[\"positionAmt\"] != \"0.000\"]\n",
    "        t_margin = (float(df[\"entryPrice\"][0]) * abs(float(df[\"positionAmt\"][0]))) / float(df[\"leverage\"][0])\n",
    "        profit = float(t_margin*tp*0.01)\n",
    "        price = round((profit / float(df[\"positionAmt\"][0])) + float(df[\"entryPrice\"][0]), no_of_decimals)\n",
    "        t_position_amt = 0\n",
    "        for index in df.index:\n",
    "            t_position_amt += abs(float(df[\"positionAmt\"][index]))\n",
    "        return price,t_position_amt\n",
    "\n",
    "    except:\n",
    "        pass"
   ]
  },
  {
   "cell_type": "markdown",
   "id": "937c7c35",
   "metadata": {},
   "source": [
    "## Placing the Take Profit Order"
   ]
  },
  {
   "cell_type": "code",
   "execution_count": 18,
   "id": "f02520d2",
   "metadata": {},
   "outputs": [],
   "source": [
    "## placing take profit order\n",
    "def place_tp_order(symbol,price,t_position_amt,direction):\n",
    "    try:\n",
    "        if direction == \"LONG\":\n",
    "            sell_limit(symbol,t_position_amt,price)\n",
    "        if direction == \"SHORT\":\n",
    "            buy_limit(symbol, t_position_amt, price)\n",
    "    except:\n",
    "        place_tp_order(symbol, price, t_position_amt, direction)"
   ]
  }
 ],
 "metadata": {
  "kernelspec": {
   "display_name": "Python 3 (ipykernel)",
   "language": "python",
   "name": "python3"
  },
  "language_info": {
   "codemirror_mode": {
    "name": "ipython",
    "version": 3
   },
   "file_extension": ".py",
   "mimetype": "text/x-python",
   "name": "python",
   "nbconvert_exporter": "python",
   "pygments_lexer": "ipython3",
   "version": "3.11.5"
  }
 },
 "nbformat": 4,
 "nbformat_minor": 5
}
