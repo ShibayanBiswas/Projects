{
 "cells": [
  {
   "cell_type": "code",
   "execution_count": 1,
   "id": "f8b5ef41",
   "metadata": {},
   "outputs": [],
   "source": [
    "## import the libraries\n",
    "from binance.client import Client\n",
    "import pandas as pd"
   ]
  },
  {
   "cell_type": "code",
   "execution_count": 2,
   "id": "e88b8e83",
   "metadata": {},
   "outputs": [],
   "source": [
    "## connect with python\n",
    "api = '33ced6236b5dcc64077883472fd37a3aae566b82c13008468d8239bae0bd158d'\n",
    "api_secret = 'e053e6ff070a9f4b6881457848b47bac4e1c03b41b9ad2f8f2fa9a7b25e81559'\n",
    "\n",
    "client = Client(api, api_secret, tld=\"com\", testnet=True)"
   ]
  },
  {
   "cell_type": "code",
   "execution_count": 3,
   "id": "29811cc9",
   "metadata": {},
   "outputs": [
    {
     "name": "stdout",
     "output_type": "stream",
     "text": [
      "  asset   walletBalance unrealizedProfit   marginBalance maintMargin  \\\n",
      "0   ETH      0.00000000       0.00000000      0.00000000  0.00000000   \n",
      "1   BTC      0.00000000       0.00000000      0.00000000  0.00000000   \n",
      "2   BNB      0.00000000       0.00000000      0.00000000  0.00000000   \n",
      "3  USDT  14997.73910240       0.00000000  14997.73910240  0.00000000   \n",
      "4  USDC      0.00000000       0.00000000      0.00000000  0.00000000   \n",
      "5  BUSD      0.00000000       0.00000000      0.00000000  0.00000000   \n",
      "\n",
      "  initialMargin positionInitialMargin openOrderInitialMargin  \\\n",
      "0    0.00000000            0.00000000             0.00000000   \n",
      "1    0.00000000            0.00000000             0.00000000   \n",
      "2    0.00000000            0.00000000             0.00000000   \n",
      "3    0.00000000            0.00000000             0.00000000   \n",
      "4    0.00000000            0.00000000             0.00000000   \n",
      "5    0.00000000            0.00000000             0.00000000   \n",
      "\n",
      "  maxWithdrawAmount crossWalletBalance  crossUnPnl availableBalance  \\\n",
      "0        0.00000000         0.00000000  0.00000000       0.00000000   \n",
      "1        0.00000000         0.00000000  0.00000000       0.00000000   \n",
      "2        0.00000000         0.00000000  0.00000000       0.00000000   \n",
      "3    14997.73910240     14997.73910240  0.00000000   14997.73910240   \n",
      "4        0.00000000         0.00000000  0.00000000       0.00000000   \n",
      "5        0.00000000         0.00000000  0.00000000       0.00000000   \n",
      "\n",
      "   marginAvailable     updateTime  \n",
      "0             True              0  \n",
      "1             True              0  \n",
      "2             True              0  \n",
      "3             True  1703278241615  \n",
      "4             True              0  \n",
      "5             True              0  \n"
     ]
    }
   ],
   "source": [
    "## fetch current account balance\n",
    "def get_balance():\n",
    "    x = client.futures_account()\n",
    "    df = pd.DataFrame(x['assets'])\n",
    "    print(df)\n",
    "    \n",
    "get_balance()"
   ]
  },
  {
   "cell_type": "markdown",
   "id": "9c6fbdfd",
   "metadata": {},
   "source": [
    "# Placing Market Orders with Python"
   ]
  },
  {
   "cell_type": "code",
   "execution_count": 4,
   "id": "8825ef43",
   "metadata": {},
   "outputs": [],
   "source": [
    "## placing market orders\n",
    "def market_order(symbol,side,quantity):\n",
    "    if side == \"LONG\":\n",
    "        output=client.futures_create_order(\n",
    "            symbol=symbol,\n",
    "            side=Client.SIDE_BUY,\n",
    "            type=Client.FUTURE_ORDER_TYPE_MARKET,\n",
    "            quantity=quantity\n",
    "        )\n",
    "        print(output)\n",
    "\n",
    "    if side == \"SHORT\":\n",
    "        output=client.futures_create_order(\n",
    "            symbol=symbol,\n",
    "            side=Client.SIDE_SELL,\n",
    "            type=Client.FUTURE_ORDER_TYPE_MARKET,\n",
    "            quantity=quantity\n",
    "        )\n",
    "        print(output)"
   ]
  },
  {
   "cell_type": "code",
   "execution_count": 5,
   "id": "bc7b6373",
   "metadata": {},
   "outputs": [
    {
     "name": "stdout",
     "output_type": "stream",
     "text": [
      "{'orderId': 3575561490, 'symbol': 'BTCUSDT', 'status': 'NEW', 'clientOrderId': 'LtRa3zkEvOwxELa6mUF8Cn', 'price': '0.00', 'avgPrice': '0.00', 'origQty': '0.010', 'executedQty': '0.000', 'cumQty': '0.000', 'cumQuote': '0.00000', 'timeInForce': 'GTC', 'type': 'MARKET', 'reduceOnly': False, 'closePosition': False, 'side': 'SELL', 'positionSide': 'BOTH', 'stopPrice': '0.00', 'workingType': 'CONTRACT_PRICE', 'priceProtect': False, 'origType': 'MARKET', 'priceMatch': 'NONE', 'selfTradePreventionMode': 'NONE', 'goodTillDate': 0, 'updateTime': 1703326118484}\n"
     ]
    }
   ],
   "source": [
    "## placing sell market order\n",
    "market_order(\"BTCUSDT\", \"SHORT\", 0.01)"
   ]
  },
  {
   "cell_type": "code",
   "execution_count": 6,
   "id": "f8e478b5",
   "metadata": {},
   "outputs": [
    {
     "name": "stdout",
     "output_type": "stream",
     "text": [
      "{'orderId': 3575561498, 'symbol': 'BTCUSDT', 'status': 'NEW', 'clientOrderId': 'gHlkzXQLzjllDYbyc0BFnL', 'price': '0.00', 'avgPrice': '0.00', 'origQty': '0.010', 'executedQty': '0.000', 'cumQty': '0.000', 'cumQuote': '0.00000', 'timeInForce': 'GTC', 'type': 'MARKET', 'reduceOnly': False, 'closePosition': False, 'side': 'BUY', 'positionSide': 'BOTH', 'stopPrice': '0.00', 'workingType': 'CONTRACT_PRICE', 'priceProtect': False, 'origType': 'MARKET', 'priceMatch': 'NONE', 'selfTradePreventionMode': 'NONE', 'goodTillDate': 0, 'updateTime': 1703326119080}\n"
     ]
    }
   ],
   "source": [
    "## palcing buy market order\n",
    "market_order(\"BTCUSDT\", \"LONG\", 0.01)"
   ]
  },
  {
   "cell_type": "markdown",
   "id": "559946ee",
   "metadata": {},
   "source": [
    "#  Live Streaming Current Market Price of a Symbol - Real"
   ]
  },
  {
   "cell_type": "code",
   "execution_count": 7,
   "id": "f900c1b5",
   "metadata": {},
   "outputs": [],
   "source": [
    "## streaming price (when trading with real account)\n",
    "def get_market_price_real(symbol):\n",
    "    price = client.get_symbol_ticker(symbol=symbol)\n",
    "    return float(price[\"price\"])"
   ]
  },
  {
   "cell_type": "code",
   "execution_count": null,
   "id": "13336e27",
   "metadata": {},
   "outputs": [],
   "source": [
    "try:  \n",
    "    while True:\n",
    "        price = get_market_price_real(\"BTCUSDT\")\n",
    "        print(price)\n",
    "except KeyboardInterrupt:\n",
    "    pass"
   ]
  },
  {
   "cell_type": "markdown",
   "id": "d8e96ce1",
   "metadata": {},
   "source": [
    "# Calcutating the Price Deviation"
   ]
  },
  {
   "cell_type": "code",
   "execution_count": 9,
   "id": "0d6f6ac8",
   "metadata": {},
   "outputs": [],
   "source": [
    "def get_market_price(symbol):\n",
    "    response = requests.get(f'https://testnet.binancefuture.com/fapi/v1/ticker/price?symbol={symbol}')\n",
    "    price = float(response.json()['price'])\n",
    "    return price"
   ]
  },
  {
   "cell_type": "code",
   "execution_count": 10,
   "id": "14faaec5",
   "metadata": {},
   "outputs": [],
   "source": [
    "def cal_deviation(direction,intial_price,current_price):\n",
    "    dev = ((current_price-intial_price)/intial_price)*100\n",
    "    if direction == \"LONG\":\n",
    "        return dev\n",
    "    if direction == \"SHORT\":\n",
    "        return dev * -1"
   ]
  },
  {
   "cell_type": "markdown",
   "id": "f1319ef2",
   "metadata": {},
   "source": [
    "# Placing Limit Orders with Python"
   ]
  },
  {
   "cell_type": "code",
   "execution_count": 11,
   "id": "759090fc",
   "metadata": {},
   "outputs": [],
   "source": [
    "## placing buy limit order\n",
    "def buy_limit(symbol,quantity,price):\n",
    "    output = client.futures_create_order(\n",
    "        symbol=symbol,\n",
    "        side=Client.SIDE_BUY,\n",
    "        type=Client.FUTURE_ORDER_TYPE_LIMIT,\n",
    "        timeInForce=Client.TIME_IN_FORCE_GTC,\n",
    "        quantity=quantity,\n",
    "        price=price,\n",
    "    )\n",
    "    print(output)"
   ]
  },
  {
   "cell_type": "code",
   "execution_count": 12,
   "id": "b6a03ede",
   "metadata": {},
   "outputs": [],
   "source": [
    "## placing sell limit order\n",
    "def sell_limit(symbol,quantity,price):\n",
    "    output = client.futures_create_order(\n",
    "        symbol=symbol,\n",
    "        side=Client.SIDE_SELL,\n",
    "        type=Client.FUTURE_ORDER_TYPE_LIMIT,\n",
    "        timeInForce=Client.TIME_IN_FORCE_GTC,\n",
    "        quantity=quantity,\n",
    "        price=price,\n",
    "    )\n",
    "    print(output)"
   ]
  },
  {
   "cell_type": "code",
   "execution_count": 13,
   "id": "a40fc2d4",
   "metadata": {},
   "outputs": [
    {
     "name": "stdout",
     "output_type": "stream",
     "text": [
      "{'orderId': 3575561610, 'symbol': 'BTCUSDT', 'status': 'NEW', 'clientOrderId': 'TSHpg9xhRIDh8RQKPn6I7B', 'price': '43000.00', 'avgPrice': '0.00', 'origQty': '0.020', 'executedQty': '0.000', 'cumQty': '0.000', 'cumQuote': '0.00000', 'timeInForce': 'GTC', 'type': 'LIMIT', 'reduceOnly': False, 'closePosition': False, 'side': 'BUY', 'positionSide': 'BOTH', 'stopPrice': '0.00', 'workingType': 'CONTRACT_PRICE', 'priceProtect': False, 'origType': 'LIMIT', 'priceMatch': 'NONE', 'selfTradePreventionMode': 'NONE', 'goodTillDate': 0, 'updateTime': 1703326131325}\n"
     ]
    }
   ],
   "source": [
    "## placing buy limit order\n",
    "buy_limit(\"BTCUSDT\", 0.02, 43000)"
   ]
  },
  {
   "cell_type": "code",
   "execution_count": 14,
   "id": "1afc6d14",
   "metadata": {},
   "outputs": [
    {
     "name": "stdout",
     "output_type": "stream",
     "text": [
      "{'orderId': 3575561653, 'symbol': 'BTCUSDT', 'status': 'NEW', 'clientOrderId': '3f3j8h8FvMFWPYfrFRWuXr', 'price': '44000.00', 'avgPrice': '0.00', 'origQty': '0.020', 'executedQty': '0.000', 'cumQty': '0.000', 'cumQuote': '0.00000', 'timeInForce': 'GTC', 'type': 'LIMIT', 'reduceOnly': False, 'closePosition': False, 'side': 'SELL', 'positionSide': 'BOTH', 'stopPrice': '0.00', 'workingType': 'CONTRACT_PRICE', 'priceProtect': False, 'origType': 'LIMIT', 'priceMatch': 'NONE', 'selfTradePreventionMode': 'NONE', 'goodTillDate': 0, 'updateTime': 1703326132121}\n"
     ]
    }
   ],
   "source": [
    "## placing sell limit order\n",
    "sell_limit(\"BTCUSDT\", 0.02, 44000)"
   ]
  },
  {
   "cell_type": "markdown",
   "id": "24b1c627",
   "metadata": {},
   "source": [
    "# Placing the Take Profit"
   ]
  },
  {
   "cell_type": "code",
   "execution_count": 15,
   "id": "69fa6f63",
   "metadata": {},
   "outputs": [],
   "source": [
    "## calculate take profit price\n",
    "def cal_tp_level(symbol,tp,no_of_decimals):\n",
    "    try:\n",
    "        ## details of all running positions\n",
    "        x = client.futures_position_information(symbol=symbol)\n",
    "        df = pd.DataFrame(x)\n",
    "        \n",
    "        ## remove the null positions\n",
    "        df = df.loc[df[\"positionAmt\"] != \"0.000\"]\n",
    "        \n",
    "        t_margin = (float(df[\"entryPrice\"][0]) * abs(float(df[\"positionAmt\"][0]))) / float(df[\"leverage\"][0])\n",
    "        profit = float(t_margin*tp*0.01)\n",
    "        price = round((profit / float(df[\"positionAmt\"][0])) + float(df[\"entryPrice\"][0]), no_of_decimals)\n",
    "        t_position_amt = 0\n",
    "        for index in df.index:\n",
    "            t_position_amt += abs(float(df[\"positionAmt\"][index]))\n",
    "        return price,t_position_amt\n",
    "\n",
    "    except:\n",
    "        pass"
   ]
  },
  {
   "cell_type": "code",
   "execution_count": 16,
   "id": "5a210ab6",
   "metadata": {},
   "outputs": [],
   "source": [
    "## placing take profit order\n",
    "def place_tp(symbol,price,t_position_amt,direction):\n",
    "    try:\n",
    "        if direction == \"LONG\":\n",
    "            sell_limit(symbol,t_position_amt,price)\n",
    "        if direction == \"SHORT\":\n",
    "            buy_limit(symbol, t_position_amt, price)\n",
    "    except:\n",
    "        place_tp(symbol, price, t_position_amt, direction)"
   ]
  },
  {
   "cell_type": "markdown",
   "id": "80dd0e71",
   "metadata": {},
   "source": [
    "# Closing Limit Orders"
   ]
  },
  {
   "cell_type": "code",
   "execution_count": 17,
   "id": "5cde16e6",
   "metadata": {},
   "outputs": [],
   "source": [
    "## closing buy limit orders\n",
    "def close_buy_limit(symbol):\n",
    "    x = client.futures_get_open_orders(symbol=symbol)\n",
    "    df = pd.DataFrame(x)\n",
    "    df = df[df[\"side\"] == \"BUY\"]\n",
    "    for index in df.index:\n",
    "        client.futures_cancel_order(symbol=symbol,orderId = df[\"orderId\"][index])"
   ]
  },
  {
   "cell_type": "code",
   "execution_count": 18,
   "id": "2b3400ed",
   "metadata": {},
   "outputs": [],
   "source": [
    "## closing sell limit orders\n",
    "def close_sell_limit(symbol):\n",
    "    x = client.futures_get_open_orders(symbol=symbol)\n",
    "    df = pd.DataFrame(x)\n",
    "    df = df[df[\"side\"] == \"SELL\"]\n",
    "    for index in df.index:\n",
    "        client.futures_cancel_order(symbol=symbol,orderId = df[\"orderId\"][index])"
   ]
  }
 ],
 "metadata": {
  "kernelspec": {
   "display_name": "Python 3 (ipykernel)",
   "language": "python",
   "name": "python3"
  },
  "language_info": {
   "codemirror_mode": {
    "name": "ipython",
    "version": 3
   },
   "file_extension": ".py",
   "mimetype": "text/x-python",
   "name": "python",
   "nbconvert_exporter": "python",
   "pygments_lexer": "ipython3",
   "version": "3.11.5"
  }
 },
 "nbformat": 4,
 "nbformat_minor": 5
}
