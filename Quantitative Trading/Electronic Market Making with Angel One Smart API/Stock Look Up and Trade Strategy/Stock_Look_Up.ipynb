{
 "cells": [
  {
   "cell_type": "code",
   "execution_count": 1,
   "id": "60e8cc9d",
   "metadata": {},
   "outputs": [
    {
     "name": "stdout",
     "output_type": "stream",
     "text": [
      "[['NSE', 'INFY-EQ', '1594'], ['BSE', 'INFY', '500209']]\n"
     ]
    }
   ],
   "source": [
    "from SmartApi.smartConnect import SmartConnect\n",
    "import urllib\n",
    "import json\n",
    "\n",
    "instrument_url = \"https://margincalculator.angelbroking.com/OpenAPI_File/files/OpenAPIScripMaster.json\"\n",
    "response = urllib.request.urlopen(instrument_url)\n",
    "instrument_list = json.loads(response.read())\n",
    "\n",
    "exchange = [\"BSE\", \"NSE\"]\n",
    "\n",
    "def stock_lookup(ticker, instrument_list, exchange):\n",
    "    data = []\n",
    "    for instrument in instrument_list:\n",
    "        if instrument[\"name\"] == ticker and ((instrument[\"exch_seg\"] == exchange[0]) or (instrument [\"exch_seg\"] == exchange[1] and instrument[\"symbol\"].split('-')[-1] == \"EQ\")):\n",
    "            data.append([instrument[\"exch_seg\"], instrument[\"symbol\"], instrument[\"token\"]])\n",
    "    return data\n",
    "\n",
    "stock_details = stock_lookup(\"INFY\", instrument_list, exchange)\n",
    "print(stock_details)"
   ]
  },
  {
   "cell_type": "code",
   "execution_count": 2,
   "id": "17bec28e",
   "metadata": {},
   "outputs": [
    {
     "name": "stdout",
     "output_type": "stream",
     "text": [
      "[['NSE', 'RELIANCE-EQ', '2885'], ['BSE', 'RELIANCE', '500325']]\n"
     ]
    }
   ],
   "source": [
    "stock_details = stock_lookup(\"RELIANCE\", instrument_list, exchange)\n",
    "print(stock_details)"
   ]
  }
 ],
 "metadata": {
  "kernelspec": {
   "display_name": "Python 3 (ipykernel)",
   "language": "python",
   "name": "python3"
  },
  "language_info": {
   "codemirror_mode": {
    "name": "ipython",
    "version": 3
   },
   "file_extension": ".py",
   "mimetype": "text/x-python",
   "name": "python",
   "nbconvert_exporter": "python",
   "pygments_lexer": "ipython3",
   "version": "3.9.13"
  }
 },
 "nbformat": 4,
 "nbformat_minor": 5
}
