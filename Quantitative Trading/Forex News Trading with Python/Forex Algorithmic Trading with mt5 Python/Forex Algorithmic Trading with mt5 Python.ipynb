{
 "cells": [
  {
   "cell_type": "markdown",
   "id": "3d39ec6d",
   "metadata": {},
   "source": [
    "## Metatrader5 Python Library and Connecting Python with MetaTrader"
   ]
  },
  {
   "cell_type": "code",
   "execution_count": 1,
   "id": "1cae752e",
   "metadata": {},
   "outputs": [],
   "source": [
    "## import the libraries\n",
    "import MetaTrader5 as mt5\n",
    "import pandas as pd"
   ]
  },
  {
   "cell_type": "code",
   "execution_count": 2,
   "id": "a7da1cb9",
   "metadata": {},
   "outputs": [
    {
     "data": {
      "text/plain": [
       "True"
      ]
     },
     "execution_count": 2,
     "metadata": {},
     "output_type": "execute_result"
    }
   ],
   "source": [
    "## connect with python\n",
    "mt5.initialize(login = 51465332, server = \"ICMarketsSC-Demo\", password =\"DjENd7ch\")"
   ]
  },
  {
   "cell_type": "markdown",
   "id": "289c683a",
   "metadata": {},
   "source": [
    "## Placing Buy Stop Orders with Python"
   ]
  },
  {
   "cell_type": "code",
   "execution_count": 3,
   "id": "dbe8ce78",
   "metadata": {},
   "outputs": [],
   "source": [
    "## placing buy stop orders\n",
    "def buy_stop(symbol,volume,price):\n",
    "    request = {\n",
    "        \"action\": mt5.TRADE_ACTION_PENDING,\n",
    "        \"symbol\": symbol,\n",
    "        \"volume\": volume,\n",
    "        \"type\": mt5.ORDER_TYPE_BUY_STOP,\n",
    "        \"price\": price,\n",
    "        \"deviation\": 20,\n",
    "        \"magic\": 100,\n",
    "        \"comment\": \"python market order\",\n",
    "        \"type_time\": mt5.ORDER_TIME_GTC,\n",
    "        \"type_filling\": mt5.ORDER_FILLING_IOC,\n",
    "    }\n",
    "    \n",
    "    output = mt5.order_send(request)\n",
    "    print(output)"
   ]
  },
  {
   "cell_type": "code",
   "execution_count": 4,
   "id": "5cab3201",
   "metadata": {},
   "outputs": [
    {
     "name": "stdout",
     "output_type": "stream",
     "text": [
      "OrderSendResult(retcode=10009, deal=0, order=557016325, volume=0.5, price=0.0, bid=0.0, ask=0.0, comment='Request executed', request_id=3495504198, retcode_external=0, request=TradeRequest(action=5, magic=100, order=0, symbol='EURUSD', volume=0.5, price=1.0976, stoplimit=0.0, sl=0.0, tp=0.0, deviation=20, type=4, type_filling=1, type_time=0, expiration=0, comment='python market order', position=0, position_by=0))\n"
     ]
    }
   ],
   "source": [
    "## passing the parameters\n",
    "buy_stop(\"EURUSD\",0.5,1.09760)"
   ]
  },
  {
   "cell_type": "markdown",
   "id": "49369c28",
   "metadata": {},
   "source": [
    "## Placing Sell Stop Orders with Python"
   ]
  },
  {
   "cell_type": "code",
   "execution_count": 5,
   "id": "0ed36452",
   "metadata": {},
   "outputs": [],
   "source": [
    "## placing sell stop orders\n",
    "def sell_stop(symbol,volume,price):\n",
    "    request = {\n",
    "        \"action\": mt5.TRADE_ACTION_PENDING,\n",
    "        \"symbol\": symbol,\n",
    "        \"volume\": volume,\n",
    "        \"type\": mt5.ORDER_TYPE_SELL_STOP,\n",
    "        \"price\": price,\n",
    "        \"deviation\": 20,\n",
    "        \"magic\": 100,\n",
    "        \"comment\": \"python market order\",\n",
    "        \"type_time\": mt5.ORDER_TIME_GTC,\n",
    "        \"type_filling\": mt5.ORDER_FILLING_IOC,\n",
    "    }\n",
    "    \n",
    "    output = mt5.order_send(request)\n",
    "    print(output)"
   ]
  },
  {
   "cell_type": "code",
   "execution_count": 6,
   "id": "cd930b61",
   "metadata": {},
   "outputs": [
    {
     "name": "stdout",
     "output_type": "stream",
     "text": [
      "OrderSendResult(retcode=10009, deal=0, order=557016330, volume=0.5, price=0.0, bid=0.0, ask=0.0, comment='Request executed', request_id=3495504199, retcode_external=0, request=TradeRequest(action=5, magic=100, order=0, symbol='EURUSD', volume=0.5, price=1.0947, stoplimit=0.0, sl=0.0, tp=0.0, deviation=20, type=5, type_filling=1, type_time=0, expiration=0, comment='python market order', position=0, position_by=0))\n"
     ]
    }
   ],
   "source": [
    "## passing the parameters\n",
    "sell_stop(\"EURUSD\",0.5,1.09470)"
   ]
  },
  {
   "cell_type": "markdown",
   "id": "cab440b8",
   "metadata": {},
   "source": [
    "## Placing Take Profit and Stop Loss"
   ]
  },
  {
   "cell_type": "code",
   "execution_count": 7,
   "id": "84e84a76",
   "metadata": {},
   "outputs": [],
   "source": [
    "## placing buy stop orders with Take Profit and Stop Loss\n",
    "def buy_stop(symbol,volume,price,tp,sl):\n",
    "    request = {\n",
    "        \"action\": mt5.TRADE_ACTION_PENDING,\n",
    "        \"symbol\": symbol,\n",
    "        \"volume\": volume,\n",
    "        \"type\": mt5.ORDER_TYPE_BUY_STOP,\n",
    "        \"price\":price,\n",
    "        \"deviation\": 20,\n",
    "        \"tp\":tp,\n",
    "        \"sl\":sl,\n",
    "        \"magic\": 100,\n",
    "        \"comment\": \"python market order\",\n",
    "        \"type_time\": mt5.ORDER_TIME_GTC,\n",
    "        \"type_filling\": mt5.ORDER_FILLING_IOC,\n",
    "    }\n",
    "\n",
    "    output = mt5.order_send(request)\n",
    "    print(output)"
   ]
  },
  {
   "cell_type": "code",
   "execution_count": 8,
   "id": "5caf34c3",
   "metadata": {},
   "outputs": [
    {
     "name": "stdout",
     "output_type": "stream",
     "text": [
      "OrderSendResult(retcode=10009, deal=0, order=557016336, volume=0.5, price=0.0, bid=0.0, ask=0.0, comment='Request executed', request_id=3495504200, retcode_external=0, request=TradeRequest(action=5, magic=100, order=0, symbol='EURUSD', volume=0.5, price=1.0973, stoplimit=0.0, sl=1.09295, tp=1.1002, deviation=20, type=4, type_filling=1, type_time=0, expiration=0, comment='python market order', position=0, position_by=0))\n"
     ]
    }
   ],
   "source": [
    "## passing the parameters\n",
    "buy_stop(\"EURUSD\",0.5,1.09730,1.10020,1.09295)"
   ]
  },
  {
   "cell_type": "code",
   "execution_count": 9,
   "id": "1c0630d9",
   "metadata": {},
   "outputs": [],
   "source": [
    "## placing sell stop orders with Take Profit and Stop Loss\n",
    "def sell_stop(symbol,volume,price,tp,sl):\n",
    "    request = {\n",
    "        \"action\": mt5.TRADE_ACTION_PENDING,\n",
    "        \"symbol\": symbol,\n",
    "        \"volume\": volume,\n",
    "        \"type\": mt5.ORDER_TYPE_SELL_STOP,\n",
    "        \"price\":price,\n",
    "        \"deviation\": 20,\n",
    "        \"magic\": 100,\n",
    "        \"tp\":tp,\n",
    "        \"sl\":sl,\n",
    "        \"comment\": \"python market order\",\n",
    "        \"type_time\": mt5.ORDER_TIME_GTC,\n",
    "        \"type_filling\": mt5.ORDER_FILLING_IOC,\n",
    "    }\n",
    "\n",
    "    output = mt5.order_send(request)\n",
    "    print(output)"
   ]
  },
  {
   "cell_type": "code",
   "execution_count": 10,
   "id": "c52bbbd6",
   "metadata": {},
   "outputs": [
    {
     "name": "stdout",
     "output_type": "stream",
     "text": [
      "OrderSendResult(retcode=10009, deal=0, order=557016348, volume=0.5, price=0.0, bid=0.0, ask=0.0, comment='Request executed', request_id=3495504201, retcode_external=0, request=TradeRequest(action=5, magic=100, order=0, symbol='EURUSD', volume=0.5, price=1.0931, stoplimit=0.0, sl=1.0961, tp=1.0919, deviation=20, type=5, type_filling=1, type_time=0, expiration=0, comment='python market order', position=0, position_by=0))\n"
     ]
    }
   ],
   "source": [
    "## passing the parameters\n",
    "sell_stop(\"EURUSD\",0.5,1.0931,1.0919,1.0961)"
   ]
  },
  {
   "cell_type": "markdown",
   "id": "7fe687b2",
   "metadata": {},
   "source": [
    "## Placing Orders Automatically"
   ]
  },
  {
   "cell_type": "code",
   "execution_count": 11,
   "id": "8f8391bf",
   "metadata": {},
   "outputs": [],
   "source": [
    "## trading parameters in pips\n",
    "gap=1\n",
    "tp=10"
   ]
  },
  {
   "cell_type": "code",
   "execution_count": 12,
   "id": "dbd7fd38",
   "metadata": {},
   "outputs": [],
   "source": [
    "def cal_levels(symbol,tp,gap):\n",
    "    symbol_tick = mt5.symbol_info_tick(symbol)\n",
    "    bid = symbol_tick.bid\n",
    "    ask = symbol_tick.ask\n",
    "    O = (bid+ask)/2\n",
    "    H = ((ask * 1)/(100*100))*gap + ask\n",
    "    L = ((bid * -1)/(100*100))*gap + bid\n",
    "    sell_tp = O - tp * 0.0001\n",
    "    buy_tp = O + tp * 0.0001\n",
    "    return O,H,L,sell_tp,buy_tp"
   ]
  },
  {
   "cell_type": "code",
   "execution_count": 13,
   "id": "0df1efb0",
   "metadata": {},
   "outputs": [],
   "source": [
    "## getting the parameters\n",
    "O,H,L,sell_tp,buy_tp = cal_levels(\"EURUSD\",tp,gap)"
   ]
  },
  {
   "cell_type": "code",
   "execution_count": 14,
   "id": "994f7224",
   "metadata": {},
   "outputs": [
    {
     "name": "stdout",
     "output_type": "stream",
     "text": [
      "OrderSendResult(retcode=10009, deal=0, order=557016365, volume=0.5, price=0.0, bid=0.0, ask=0.0, comment='Request executed', request_id=3495504202, retcode_external=0, request=TradeRequest(action=5, magic=100, order=0, symbol='EURUSD', volume=0.5, price=1.095700419, stoplimit=0.0, sl=1.09585, tp=1.09485, deviation=20, type=5, type_filling=1, type_time=0, expiration=0, comment='python market order', position=0, position_by=0))\n"
     ]
    }
   ],
   "source": [
    "## placing sell stop orders\n",
    "sell_stop(\"EURUSD\",0.5,L,sell_tp,O)"
   ]
  },
  {
   "cell_type": "code",
   "execution_count": 15,
   "id": "907aafad",
   "metadata": {},
   "outputs": [
    {
     "name": "stdout",
     "output_type": "stream",
     "text": [
      "OrderSendResult(retcode=10009, deal=0, order=557016375, volume=0.5, price=0.0, bid=0.0, ask=0.0, comment='Request executed', request_id=3495504203, retcode_external=0, request=TradeRequest(action=5, magic=100, order=0, symbol='EURUSD', volume=0.5, price=1.095999589, stoplimit=0.0, sl=1.09585, tp=1.0968499999999999, deviation=20, type=4, type_filling=1, type_time=0, expiration=0, comment='python market order', position=0, position_by=0))\n"
     ]
    }
   ],
   "source": [
    "## placing buy stop orders\n",
    "buy_stop(\"EURUSD\",0.5,H,buy_tp,O)"
   ]
  },
  {
   "cell_type": "markdown",
   "id": "33c2d9db",
   "metadata": {},
   "source": [
    "## Adjusting the Stop Loss Level"
   ]
  },
  {
   "cell_type": "code",
   "execution_count": 16,
   "id": "5f65941d",
   "metadata": {},
   "outputs": [],
   "source": [
    "## define parameter to adjust stop loss level\n",
    "sl=0.75"
   ]
  },
  {
   "cell_type": "code",
   "execution_count": 17,
   "id": "8f9b542b",
   "metadata": {},
   "outputs": [
    {
     "name": "stdout",
     "output_type": "stream",
     "text": [
      "OrderSendResult(retcode=10009, deal=0, order=557016381, volume=0.5, price=0.0, bid=0.0, ask=0.0, comment='Request executed', request_id=3495504204, retcode_external=0, request=TradeRequest(action=5, magic=100, order=0, symbol='EURUSD', volume=0.5, price=1.095700419, stoplimit=0.0, sl=1.09596218575, tp=1.09485, deviation=20, type=5, type_filling=1, type_time=0, expiration=0, comment='python market order', position=0, position_by=0))\n"
     ]
    }
   ],
   "source": [
    "## placing sell stop orders\n",
    "sell_stop(\"EURUSD\",0.5,L,sell_tp,O + sl*(O-L))"
   ]
  },
  {
   "cell_type": "code",
   "execution_count": 18,
   "id": "a4dcf75d",
   "metadata": {},
   "outputs": [
    {
     "name": "stdout",
     "output_type": "stream",
     "text": [
      "OrderSendResult(retcode=10009, deal=0, order=557016386, volume=0.5, price=0.0, bid=0.0, ask=0.0, comment='Request executed', request_id=3495504205, retcode_external=0, request=TradeRequest(action=5, magic=100, order=0, symbol='EURUSD', volume=0.5, price=1.095999589, stoplimit=0.0, sl=1.09573781425, tp=1.0968499999999999, deviation=20, type=4, type_filling=1, type_time=0, expiration=0, comment='python market order', position=0, position_by=0))\n"
     ]
    }
   ],
   "source": [
    "## placing buy stop orders\n",
    "buy_stop(\"EURUSD\",0.5,H,buy_tp,O - sl*(O-L))"
   ]
  },
  {
   "cell_type": "markdown",
   "id": "fe40ed1e",
   "metadata": {},
   "source": [
    "## Building Trailing Stop Loss"
   ]
  },
  {
   "cell_type": "code",
   "execution_count": 19,
   "id": "a22bf64d",
   "metadata": {},
   "outputs": [],
   "source": [
    "## calculating new stop loss\n",
    "def cal_new_sl(symbol,initial_distance,buy_tp,sell_tp):\n",
    "    positions = mt5.positions_get(symbol=symbol)\n",
    "    position = positions[0]\n",
    "    position_type = position.type\n",
    "    price_current = position.price_current\n",
    "\n",
    "    if position_type == 0:\n",
    "        new_sl = price_current - initial_distance\n",
    "        return new_sl,buy_tp\n",
    "    if position_type == 1:\n",
    "        new_sl = price_current + initial_distance\n",
    "        return new_sl,sell_tp"
   ]
  },
  {
   "cell_type": "code",
   "execution_count": 20,
   "id": "d6f687a5",
   "metadata": {},
   "outputs": [],
   "source": [
    "def trail(symbol,initial_distance,new_sl,tp):\n",
    "    positions = mt5.positions_get(symbol=symbol)\n",
    "    position = positions[0]\n",
    "    price_current = position.price_current\n",
    "\n",
    "    current_sl = position.sl\n",
    "    current_distance = abs(round(price_current - current_sl,6))\n",
    "\n",
    "    if current_distance > initial_distance:\n",
    "        request = {\n",
    "            'action': mt5.TRADE_ACTION_SLTP,\n",
    "            'position': position.ticket,\n",
    "            'sl': new_sl,\n",
    "            'tp': tp,\n",
    "        }\n",
    "        mt5.order_send(request)"
   ]
  },
  {
   "cell_type": "markdown",
   "id": "e7943162",
   "metadata": {},
   "source": [
    "## Closing Stop Orders with Python"
   ]
  },
  {
   "cell_type": "code",
   "execution_count": 21,
   "id": "f12205db",
   "metadata": {},
   "outputs": [],
   "source": [
    "## function to delete pending orders\n",
    "def delete_pending(ticket):\n",
    "    close_request = {\n",
    "            \"action\": mt5.TRADE_ACTION_REMOVE,\n",
    "            \"order\": ticket,\n",
    "            \"type_time\": mt5.ORDER_TIME_GTC,\n",
    "            \"type_filling\": mt5.ORDER_FILLING_IOC,\n",
    "        }\n",
    "    result = mt5.order_send(close_request)\n",
    "\n",
    "    if result.retcode != mt5.TRADE_RETCODE_DONE:\n",
    "            result_dict = result._asdict()\n",
    "            print(result_dict)\n",
    "    else:\n",
    "        print('Delete complete...')"
   ]
  },
  {
   "cell_type": "code",
   "execution_count": 22,
   "id": "82284565",
   "metadata": {},
   "outputs": [
    {
     "name": "stdout",
     "output_type": "stream",
     "text": [
      "Delete complete...\n",
      "Delete complete...\n",
      "Delete complete...\n",
      "Delete complete...\n",
      "Delete complete...\n",
      "Delete complete...\n",
      "Delete complete...\n",
      "Delete complete...\n"
     ]
    }
   ],
   "source": [
    "## function to close limit orders\n",
    "def close_limit(symbol):\n",
    "    orders = mt5.orders_get(symbol=symbol)\n",
    "    df = pd.DataFrame(list(orders), columns=orders[0]._asdict().keys())\n",
    "    df.drop(['time_done', 'time_done_msc', 'position_id', 'position_by_id', 'reason', 'volume_initial',\n",
    "                 'price_stoplimit'], axis=1, inplace=True)\n",
    "    df['time_setup'] = pd.to_datetime(df['time_setup'], unit='s')\n",
    "    for ticket in df.ticket:\n",
    "        delete_pending(ticket)\n",
    "        \n",
    "close_limit(\"EURUSD\")"
   ]
  }
 ],
 "metadata": {
  "kernelspec": {
   "display_name": "Python 3 (ipykernel)",
   "language": "python",
   "name": "python3"
  },
  "language_info": {
   "codemirror_mode": {
    "name": "ipython",
    "version": 3
   },
   "file_extension": ".py",
   "mimetype": "text/x-python",
   "name": "python",
   "nbconvert_exporter": "python",
   "pygments_lexer": "ipython3",
   "version": "3.11.5"
  }
 },
 "nbformat": 4,
 "nbformat_minor": 5
}
