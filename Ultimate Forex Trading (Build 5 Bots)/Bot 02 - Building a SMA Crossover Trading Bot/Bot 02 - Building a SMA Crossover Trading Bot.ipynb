{
 "cells": [
  {
   "cell_type": "markdown",
   "id": "775c7cb2",
   "metadata": {},
   "source": [
    "## Assembling the Bot"
   ]
  },
  {
   "cell_type": "code",
   "execution_count": null,
   "id": "8d58fb31",
   "metadata": {},
   "outputs": [],
   "source": [
    "## import the libraries\n",
    "import MetaTrader5 as mt5\n",
    "import pandas as pd"
   ]
  },
  {
   "cell_type": "code",
   "execution_count": null,
   "id": "d1e06aa6",
   "metadata": {},
   "outputs": [],
   "source": [
    "## trading parameters\n",
    "symbol = \"EURUSD\"\n",
    "sma_preiod_1 = 14\n",
    "sma_period_2 = 20\n",
    "timeframe = mt5.TIMEFRAME_M1\n",
    "volume = 0.05"
   ]
  },
  {
   "cell_type": "code",
   "execution_count": null,
   "id": "2bd8f6d0",
   "metadata": {},
   "outputs": [],
   "source": [
    "## connect with python\n",
    "mt5.initialize(login = 51386052, server = \"ICMarketsSC-Demo\", password =\"8ZahZUPE\")"
   ]
  },
  {
   "cell_type": "code",
   "execution_count": null,
   "id": "2bd29cdb",
   "metadata": {},
   "outputs": [],
   "source": [
    "## function to place market order\n",
    "def market_order(symbol, volume, order_type):\n",
    "    tick = mt5.symbol_info_tick(symbol)\n",
    "    order_dict = {'buy': 0, 'sell': 1}\n",
    "    price_dict = {'buy': tick.ask, 'sell': tick.bid}\n",
    "\n",
    "    request = {\n",
    "        \"action\": mt5.TRADE_ACTION_DEAL,\n",
    "        \"symbol\": symbol,\n",
    "        \"volume\": volume,\n",
    "        \"type\": order_dict[order_type],\n",
    "        \"price\": price_dict[order_type],\n",
    "        \"deviation\": 20,\n",
    "        \"magic\": 100,\n",
    "        \"comment\": \"python market order\",\n",
    "        \"type_time\": mt5.ORDER_TIME_GTC,\n",
    "        \"type_filling\": mt5.ORDER_FILLING_IOC,\n",
    "    }\n",
    "\n",
    "    order_result = mt5.order_send(request)\n",
    "    print(order_result)\n",
    "    return order_result"
   ]
  },
  {
   "cell_type": "code",
   "execution_count": null,
   "id": "d139ae6e",
   "metadata": {},
   "outputs": [],
   "source": [
    "## function to close a position\n",
    "def close_position(position):\n",
    "    tick = mt5.symbol_info_tick(position.symbol)\n",
    "\n",
    "    request = {\n",
    "        \"action\": mt5.TRADE_ACTION_DEAL,\n",
    "        \"position\": position.ticket,\n",
    "        \"symbol\": position.symbol,\n",
    "        \"volume\": position.volume,\n",
    "        \"type\": mt5.ORDER_TYPE_BUY if position.type == 1 else mt5.ORDER_TYPE_SELL,\n",
    "        \"price\": tick.ask if position.type == 1 else tick.bid,\n",
    "        \"deviation\": 20,\n",
    "        \"magic\": 100,\n",
    "        \"comment\": \"python script close\",\n",
    "        \"type_time\": mt5.ORDER_TIME_GTC,\n",
    "        \"type_filling\": mt5.ORDER_FILLING_IOC,\n",
    "    }\n",
    "\n",
    "    result = mt5.order_send(request)\n",
    "    return result"
   ]
  },
  {
   "cell_type": "code",
   "execution_count": null,
   "id": "c9e5721d",
   "metadata": {},
   "outputs": [],
   "source": [
    "## function to calculate the direction\n",
    "def cal_direction(symbol, sma_period_1, sma_period_2, timeframe):\n",
    "    candles1 = mt5.copy_rates_from_pos(symbol, timeframe, 1, sma_period_1)\n",
    "    candles_df_1 = pd.DataFrame(candles1)\n",
    "    candles2 = mt5.copy_rates_from_pos(symbol, timeframe, 1, sma_period_2)\n",
    "    candles_df_2 = pd.DataFrame(candles2)\n",
    "    sma1 = candles_df_1.close.mean()\n",
    "    sma2 = candles_df_2.close.mean()\n",
    "    if sma1 > sma2:\n",
    "        return \"buy\"\n",
    "    if sma1 < sma2:\n",
    "        return  \"sell\"\n",
    "    if sma1 == sma2:\n",
    "        return \"neutral\""
   ]
  },
  {
   "cell_type": "code",
   "execution_count": null,
   "id": "3f6dfb17",
   "metadata": {},
   "outputs": [],
   "source": [
    "## driver code\n",
    "while True:\n",
    "    direction = cal_direction(symbol, sma_preiod_1, sma_period_2, timeframe)\n",
    "    if direction == \"buy\":\n",
    "        for position in mt5.positions_get(symbol = symbol):\n",
    "            if position.type == 1:\n",
    "                close_position(position)\n",
    "        if not mt5.positions_total():\n",
    "            market_order(symbol, volume, direction)\n",
    "            \n",
    "    if direction == \"sell\":\n",
    "        for position in mt5.positions_get(symbol = symbol):\n",
    "            if position.type == 0:\n",
    "                close_position(position)\n",
    "        if not mt5.positions_total():\n",
    "            market_order(symbol, volume, direction)"
   ]
  },
  {
   "cell_type": "markdown",
   "id": "636c5361",
   "metadata": {},
   "source": [
    "## Testing the Bot"
   ]
  },
  {
   "cell_type": "markdown",
   "id": "c22bf594",
   "metadata": {},
   "source": [
    "Let's run the above code and wait for some time to see what happens. We will stop the bot and close the current position."
   ]
  }
 ],
 "metadata": {
  "kernelspec": {
   "display_name": "Python 3 (ipykernel)",
   "language": "python",
   "name": "python3"
  },
  "language_info": {
   "codemirror_mode": {
    "name": "ipython",
    "version": 3
   },
   "file_extension": ".py",
   "mimetype": "text/x-python",
   "name": "python",
   "nbconvert_exporter": "python",
   "pygments_lexer": "ipython3",
   "version": "3.9.13"
  }
 },
 "nbformat": 4,
 "nbformat_minor": 5
}
