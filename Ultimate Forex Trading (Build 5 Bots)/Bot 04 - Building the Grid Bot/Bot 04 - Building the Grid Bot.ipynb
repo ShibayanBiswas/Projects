{
 "cells": [
  {
   "cell_type": "markdown",
   "id": "5f0862c2",
   "metadata": {},
   "source": [
    "## Assembling the Bot"
   ]
  },
  {
   "cell_type": "code",
   "execution_count": null,
   "id": "9d52b02d",
   "metadata": {},
   "outputs": [],
   "source": [
    "## import the libraries\n",
    "import MetaTrader5 as mt5\n",
    "import pandas as pd"
   ]
  },
  {
   "cell_type": "code",
   "execution_count": null,
   "id": "fda8cb50",
   "metadata": {},
   "outputs": [],
   "source": [
    "## trading parameters\n",
    "n = 10\n",
    "symbol = \"GBPUSD\"\n",
    "volume = 0.01\n",
    "profit_target = 2\n",
    "proportion = 2  ## specific number to multiply gap between limit orders"
   ]
  },
  {
   "cell_type": "code",
   "execution_count": null,
   "id": "82d80836",
   "metadata": {},
   "outputs": [],
   "source": [
    "## connect with python\n",
    "mt5.initialize(login = 51386052, server = \"ICMarketsSC-Demo\", password =\"8ZahZUPE\")"
   ]
  },
  {
   "cell_type": "code",
   "execution_count": null,
   "id": "33e0d08b",
   "metadata": {},
   "outputs": [],
   "source": [
    "## placing buy limit order\n",
    "def buy_limit(symbol, volume, price):\n",
    "    request = mt5.order_send({\n",
    "        \"action\": mt5.TRADE_ACTION_PENDING,\n",
    "        \"symbol\": symbol,\n",
    "        \"volume\": volume,\n",
    "        \"type\": mt5.ORDER_TYPE_BUY_LIMIT,\n",
    "        \"price\": price,\n",
    "        \"deviation\": 20,\n",
    "        \"magic\": 100,\n",
    "        \"comment\": \"python market order\",\n",
    "        \"type_time\": mt5.ORDER_TIME_GTC,\n",
    "        \"type_filling\": mt5.ORDER_FILLING_IOC,\n",
    "    })\n",
    "    \n",
    "    print(request)"
   ]
  },
  {
   "cell_type": "code",
   "execution_count": null,
   "id": "eb9b3a86",
   "metadata": {},
   "outputs": [],
   "source": [
    "## placing sell limit order\n",
    "def sell_limit(symbol, volume, price):\n",
    "    request = mt5.order_send({\n",
    "        \"action\": mt5.TRADE_ACTION_PENDING,\n",
    "        \"symbol\": symbol,\n",
    "        \"volume\": volume,\n",
    "        \"type\": mt5.ORDER_TYPE_SELL_LIMIT,\n",
    "        \"price\": price,\n",
    "        \"deviation\": 20,\n",
    "        \"magic\": 100,\n",
    "        \"comment\": \"python market order\",\n",
    "        \"type_time\": mt5.ORDER_TIME_GTC,\n",
    "        \"type_filling\": mt5.ORDER_FILLING_IOC,\n",
    "    })\n",
    "    \n",
    "    print(request)"
   ]
  },
  {
   "cell_type": "code",
   "execution_count": null,
   "id": "d0f2ba3c",
   "metadata": {},
   "outputs": [],
   "source": [
    "## function to calculate the total profit\n",
    "def cal_profit(symbol):\n",
    "    usd_positions = mt5.positions_get(symbol = symbol)\n",
    "    df = pd.DataFrame(list(usd_positions), columns = usd_positions[0]._asdict().keys())\n",
    "    df['time'] = pd.to_datetime(df['time'], unit = 's')\n",
    "    df.drop(['time_update', 'time_msc', 'time_update_msc', 'external_id'], axis = 1, inplace = True)\n",
    "    profit = float(df[\"profit\"].sum())\n",
    "    return profit"
   ]
  },
  {
   "cell_type": "code",
   "execution_count": null,
   "id": "7db0fd74",
   "metadata": {},
   "outputs": [],
   "source": [
    "## function to calculate the total volume\n",
    "def cal_volume(symbol):\n",
    "    usd_positions = mt5.positions_get(symbol = symbol)\n",
    "    df = pd.DataFrame(list(usd_positions), columns = usd_positions[0]._asdict().keys())\n",
    "    df['time'] = pd.to_datetime(df['time'], unit = 's')\n",
    "    df.drop(['time_update', 'time_msc', 'time_update_msc', 'external_id'], axis = 1, inplace = True)\n",
    "    volume = float(df[\"volume\"].sum())\n",
    "    return volume"
   ]
  },
  {
   "cell_type": "code",
   "execution_count": null,
   "id": "64c3e6f3",
   "metadata": {},
   "outputs": [],
   "source": [
    "## function to calculate the profit for buy position\n",
    "def cal_buy_profit(symbol):\n",
    "    usd_positions = mt5.positions_get(symbol = symbol)\n",
    "    df = pd.DataFrame(list(usd_positions), columns = usd_positions[0]._asdict().keys())\n",
    "    df['time'] = pd.to_datetime(df['time'], unit = 's')\n",
    "    df.drop(['time_update', 'time_msc', 'time_update_msc', 'external_id'], axis = 1, inplace = True)\n",
    "    df = df.loc[df.type == 0]\n",
    "    profit = float(df[\"profit\"].sum())\n",
    "    return profit"
   ]
  },
  {
   "cell_type": "code",
   "execution_count": null,
   "id": "e4e87b34",
   "metadata": {},
   "outputs": [],
   "source": [
    "## function to calculate the profit for sell position\n",
    "def cal_sell_profit(symbol):\n",
    "    usd_positions = mt5.positions_get(symbol = symbol)\n",
    "    df = pd.DataFrame(list(usd_positions), columns = usd_positions[0]._asdict().keys())\n",
    "    df['time'] = pd.to_datetime(df['time'], unit = 's')\n",
    "    df.drop(['time_update', 'time_msc', 'time_update_msc', 'external_id'], axis = 1, inplace = True)\n",
    "    df = df.loc[df.type == 1]\n",
    "    profit = float(df[\"profit\"].sum())\n",
    "    return profit"
   ]
  },
  {
   "cell_type": "code",
   "execution_count": null,
   "id": "7ebb0d08",
   "metadata": {},
   "outputs": [],
   "source": [
    "## function to calculate the total margin for buy position\n",
    "def cal_buy_margin(symbol):\n",
    "    usd_positions = mt5.positions_get(symbol = symbol)\n",
    "    df = pd.DataFrame(list(usd_positions), columns = usd_positions[0]._asdict().keys())\n",
    "    df['time'] = pd.to_datetime(df['time'], unit = 's')\n",
    "    df.drop(['time_update', 'time_msc', 'time_update_msc', 'external_id'], axis = 1, inplace = True)\n",
    "    df = df.loc[df.type == 0]\n",
    "\n",
    "    sum = 0\n",
    "    for i in df.index:\n",
    "        volume = df.volume[i]\n",
    "        open_price = df.price_open[i]\n",
    "        margin = mt5.order_calc_margin(mt5.ORDER_TYPE_BUY, symbol, volume, open_price)\n",
    "        sum += margin\n",
    "    return sum"
   ]
  },
  {
   "cell_type": "code",
   "execution_count": null,
   "id": "52243fed",
   "metadata": {},
   "outputs": [],
   "source": [
    "## function to calculate the total margin for sell position\n",
    "def cal_sell_margin(symbol):\n",
    "    usd_positions = mt5.positions_get(symbol = symbol)\n",
    "    df = pd.DataFrame(list(usd_positions), columns = usd_positions[0]._asdict().keys())\n",
    "    df['time'] = pd.to_datetime(df['time'], unit = 's')\n",
    "    df.drop(['time_update', 'time_msc', 'time_update_msc', 'external_id'], axis = 1, inplace = True)\n",
    "    df = df.loc[df.type == 1]\n",
    "\n",
    "    sum = 0\n",
    "    for i in df.index:\n",
    "        volume = df.volume[i]\n",
    "        open_price = df.price_open[i]\n",
    "        margin = mt5.order_calc_margin(mt5.ORDER_TYPE_SELL, symbol, volume, open_price)\n",
    "        sum += margin\n",
    "    return sum"
   ]
  },
  {
   "cell_type": "code",
   "execution_count": null,
   "id": "68531c49",
   "metadata": {},
   "outputs": [],
   "source": [
    "## function to calculate the percentage profit for buy position\n",
    "def cal_pct_buy_profit(symbol):\n",
    "    profit = cal_buy_profit(symbol)\n",
    "    margin = cal_buy_margin(symbol)\n",
    "    pct = (profit/margin) * 100\n",
    "    return pct"
   ]
  },
  {
   "cell_type": "code",
   "execution_count": null,
   "id": "48bf390e",
   "metadata": {},
   "outputs": [],
   "source": [
    "## function to calculate the percentage profit for sell position\n",
    "def cal_pct_sell_profit(symbol):\n",
    "    profit = cal_sell_profit(symbol)\n",
    "    margin = cal_sell_margin(symbol)\n",
    "    pct = (profit/margin) * 100\n",
    "    return pct"
   ]
  },
  {
   "cell_type": "code",
   "execution_count": null,
   "id": "571fabda",
   "metadata": {},
   "outputs": [],
   "source": [
    "## function to close a position\n",
    "def close_position(position):\n",
    "    tick = mt5.symbol_info_tick(position.symbol)\n",
    "\n",
    "    request = {\n",
    "        \"action\": mt5.TRADE_ACTION_DEAL,\n",
    "        \"position\": position.ticket,\n",
    "        \"symbol\": position.symbol,\n",
    "        \"volume\": position.volume,\n",
    "        \"type\": mt5.ORDER_TYPE_BUY if position.type == 1 else mt5.ORDER_TYPE_SELL,\n",
    "        \"price\": tick.ask if position.type == 1 else tick.bid,\n",
    "        \"deviation\": 20,\n",
    "        \"magic\": 100,\n",
    "        \"comment\": \"python script close\",\n",
    "        \"type_time\": mt5.ORDER_TIME_GTC,\n",
    "        \"type_filling\": mt5.ORDER_FILLING_IOC,\n",
    "    }\n",
    "\n",
    "    result = mt5.order_send(request)\n",
    "    return result"
   ]
  },
  {
   "cell_type": "code",
   "execution_count": null,
   "id": "6a13f05c",
   "metadata": {},
   "outputs": [],
   "source": [
    "## function to close all positions\n",
    "def close_all(symbol):\n",
    "    positions = mt5.positions_get(symbol = symbol)\n",
    "    for position in positions:\n",
    "        close_position(position)"
   ]
  },
  {
   "cell_type": "code",
   "execution_count": null,
   "id": "2686d80f",
   "metadata": {},
   "outputs": [],
   "source": [
    "## function to delete pending orders\n",
    "def delete_pending(ticket):\n",
    "    close_request = {\n",
    "        \"action\": mt5.TRADE_ACTION_REMOVE,\n",
    "        \"order\": ticket,\n",
    "        \"type_time\": mt5.ORDER_TIME_GTC,\n",
    "        \"type_filling\": mt5.ORDER_FILLING_IOC,\n",
    "    }\n",
    "    result = mt5.order_send(close_request)\n",
    "\n",
    "    if result.retcode != mt5.TRADE_RETCODE_DONE:\n",
    "        result_dict = result._asdict()\n",
    "        print(result_dict)\n",
    "    else:\n",
    "        print('Delete complete...')"
   ]
  },
  {
   "cell_type": "code",
   "execution_count": null,
   "id": "64d73782",
   "metadata": {},
   "outputs": [],
   "source": [
    "## function to close limit orders\n",
    "def close_limit(symbol):\n",
    "    orders = mt5.orders_get(symbol = symbol)\n",
    "    df = pd.DataFrame(list(orders), columns = orders[0]._asdict().keys())\n",
    "    df.drop(['time_done', 'time_done_msc', 'position_id', 'position_by_id', 'reason', 'volume_initial', 'price_stoplimit'], axis = 1, inplace = True)\n",
    "    df['time_setup'] = pd.to_datetime(df['time_setup'], unit = 's')\n",
    "    for ticket in df.ticket:\n",
    "        delete_pending(ticket)"
   ]
  },
  {
   "cell_type": "code",
   "execution_count": null,
   "id": "904f72f6",
   "metadata": {},
   "outputs": [],
   "source": [
    "## driver code\n",
    "while True:\n",
    "    pct_change = 1\n",
    "    tick = mt5.symbol_info_tick(symbol)\n",
    "    current_price_sell = tick.bid\n",
    "    adj_sell = 1.2  ## to increase gap between limit orders in each iteration\n",
    "\n",
    "    for i in range(n):\n",
    "        price = ((pct_change / (100 * 100)) * current_price_sell) * adj_sell * proportion + current_price_sell\n",
    "        sell_limit(symbol, volume, price)\n",
    "        pct_change += 1\n",
    "        adj_sell += 0.2\n",
    "\n",
    "    pct_change_2 = -1\n",
    "    tick = mt5.symbol_info_tick(symbol)\n",
    "    current_price_buy = tick.ask\n",
    "    adj_buy = 1.2\n",
    "\n",
    "    for i in range(n):\n",
    "        price = ((pct_change_2/(100 * 100)) * current_price_buy) * adj_buy * proportion + current_price_buy\n",
    "        buy_limit(symbol, volume, price)\n",
    "        pct_change_2 -= 1\n",
    "        adj_buy += 0.2\n",
    "\n",
    "    while True:\n",
    "        position = mt5.positions_get(symbol = symbol)\n",
    "        if len(position) > 0:\n",
    "            margin_s = cal_sell_margin(symbol)\n",
    "            margin_b = cal_buy_margin(symbol)\n",
    "\n",
    "            if margin_s > 0:\n",
    "                pct_sell_profit = cal_pct_sell_profit(symbol)\n",
    "                if pct_sell_profit >= profit_target:\n",
    "                    close_all(symbol)\n",
    "\n",
    "            if margin_b > 0:\n",
    "                pct_buy_profit = cal_pct_buy_profit(symbol)\n",
    "                if pct_buy_profit >= profit_target:\n",
    "                    close_all(symbol)\n",
    "\n",
    "            position = mt5.positions_get(symbol = symbol)\n",
    "            if len(position) == 0:\n",
    "                close_limit(symbol)\n",
    "                break"
   ]
  },
  {
   "cell_type": "markdown",
   "id": "7a3e3d79",
   "metadata": {},
   "source": [
    "## Testing the Bot"
   ]
  },
  {
   "cell_type": "markdown",
   "id": "204b3dbb",
   "metadata": {},
   "source": [
    "Let's run the above code and wait for some time to see what happens. We will stop the bot and close the current positions."
   ]
  }
 ],
 "metadata": {
  "kernelspec": {
   "display_name": "Python 3 (ipykernel)",
   "language": "python",
   "name": "python3"
  },
  "language_info": {
   "codemirror_mode": {
    "name": "ipython",
    "version": 3
   },
   "file_extension": ".py",
   "mimetype": "text/x-python",
   "name": "python",
   "nbconvert_exporter": "python",
   "pygments_lexer": "ipython3",
   "version": "3.9.13"
  }
 },
 "nbformat": 4,
 "nbformat_minor": 5
}
