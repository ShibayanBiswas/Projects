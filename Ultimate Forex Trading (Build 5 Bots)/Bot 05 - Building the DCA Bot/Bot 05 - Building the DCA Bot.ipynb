{
 "cells": [
  {
   "cell_type": "markdown",
   "id": "c012eeff",
   "metadata": {},
   "source": [
    "## Assembling the Bot"
   ]
  },
  {
   "cell_type": "code",
   "execution_count": 1,
   "id": "d4ab8fde",
   "metadata": {},
   "outputs": [],
   "source": [
    "## import the libraries\n",
    "import MetaTrader5 as mt5\n",
    "import pandas as pd"
   ]
  },
  {
   "cell_type": "code",
   "execution_count": 2,
   "id": "36816b3c",
   "metadata": {},
   "outputs": [],
   "source": [
    "## trading parameters\n",
    "symbol = \"GBPUSD\"\n",
    "volume = 0.01\n",
    "profit_target = 2\n",
    "no_of_safty_orders = 3\n",
    "direction = \"sell\""
   ]
  },
  {
   "cell_type": "code",
   "execution_count": 3,
   "id": "24f4e926",
   "metadata": {},
   "outputs": [
    {
     "data": {
      "text/plain": [
       "True"
      ]
     },
     "execution_count": 3,
     "metadata": {},
     "output_type": "execute_result"
    }
   ],
   "source": [
    "## connect with python\n",
    "mt5.initialize(login = 51386052, server = \"ICMarketsSC-Demo\", password =\"8ZahZUPE\")"
   ]
  },
  {
   "cell_type": "code",
   "execution_count": 4,
   "id": "759b37ea",
   "metadata": {},
   "outputs": [],
   "source": [
    "## placing market orders\n",
    "def market_order(symbol, volume, order_type):\n",
    "    tick = mt5.symbol_info_tick(symbol)\n",
    "    order_dict = {'buy': 0, 'sell': 1}\n",
    "    price_dict = {'buy': tick.ask, 'sell': tick.bid}\n",
    "\n",
    "    request = {\n",
    "        \"action\": mt5.TRADE_ACTION_DEAL,\n",
    "        \"symbol\": symbol,\n",
    "        \"volume\": volume,\n",
    "        \"type\": order_dict[order_type],\n",
    "        \"price\": price_dict[order_type],\n",
    "        \"deviation\": 20,\n",
    "        \"magic\": 100,\n",
    "        \"comment\": \"python market order\",\n",
    "        \"type_time\": mt5.ORDER_TIME_GTC,\n",
    "        \"type_filling\": mt5.ORDER_FILLING_IOC,\n",
    "    }\n",
    "\n",
    "    order_result = mt5.order_send(request)\n",
    "    print(order_result)\n",
    "    return order_result"
   ]
  },
  {
   "cell_type": "code",
   "execution_count": 5,
   "id": "0966995b",
   "metadata": {},
   "outputs": [],
   "source": [
    "## function to calculate the total profit\n",
    "def cal_profit(symbol):\n",
    "    usd_positions = mt5.positions_get(symbol = symbol)\n",
    "    df = pd.DataFrame(list(usd_positions), columns = usd_positions[0]._asdict().keys())\n",
    "    df['time'] = pd.to_datetime(df['time'], unit = 's')\n",
    "    df.drop(['time_update', 'time_msc', 'time_update_msc', 'external_id'], axis = 1, inplace = True)\n",
    "    profit = float(df[\"profit\"].sum())\n",
    "    return profit"
   ]
  },
  {
   "cell_type": "code",
   "execution_count": 6,
   "id": "a7396c30",
   "metadata": {},
   "outputs": [],
   "source": [
    "## function to calculate the total volume\n",
    "def cal_volume(symbol):\n",
    "    usd_positions = mt5.positions_get(symbol = symbol)\n",
    "    df = pd.DataFrame(list(usd_positions), columns = usd_positions[0]._asdict().keys())\n",
    "    df['time'] = pd.to_datetime(df['time'], unit = 's')\n",
    "    df.drop(['time_update', 'time_msc', 'time_update_msc', 'external_id'], axis = 1, inplace = True)\n",
    "    volume = float(df[\"volume\"].sum())\n",
    "    return volume"
   ]
  },
  {
   "cell_type": "code",
   "execution_count": 7,
   "id": "0c84e6db",
   "metadata": {},
   "outputs": [],
   "source": [
    "## function to calculate the profit for buy position\n",
    "def cal_buy_profit(symbol):\n",
    "    usd_positions = mt5.positions_get(symbol = symbol)\n",
    "    df = pd.DataFrame(list(usd_positions), columns = usd_positions[0]._asdict().keys())\n",
    "    df['time'] = pd.to_datetime(df['time'], unit = 's')\n",
    "    df.drop(['time_update', 'time_msc', 'time_update_msc', 'external_id'], axis = 1, inplace = True)\n",
    "    df = df.loc[df.type == 0]\n",
    "    profit = float(df[\"profit\"].sum())\n",
    "    return profit"
   ]
  },
  {
   "cell_type": "code",
   "execution_count": 8,
   "id": "0e6e82c2",
   "metadata": {},
   "outputs": [],
   "source": [
    "## function to calculate the profit for sell position\n",
    "def cal_sell_profit(symbol):\n",
    "    usd_positions = mt5.positions_get(symbol = symbol)\n",
    "    df = pd.DataFrame(list(usd_positions), columns = usd_positions[0]._asdict().keys())\n",
    "    df['time'] = pd.to_datetime(df['time'], unit = 's')\n",
    "    df.drop(['time_update', 'time_msc', 'time_update_msc', 'external_id'], axis = 1, inplace = True)\n",
    "    df = df.loc[df.type == 1]\n",
    "    profit = float(df[\"profit\"].sum())\n",
    "    return profit"
   ]
  },
  {
   "cell_type": "code",
   "execution_count": 9,
   "id": "eabfcb97",
   "metadata": {},
   "outputs": [],
   "source": [
    "## function to calculate the total margin for buy position\n",
    "def cal_buy_margin(symbol):\n",
    "    usd_positions = mt5.positions_get(symbol = symbol)\n",
    "    df = pd.DataFrame(list(usd_positions), columns = usd_positions[0]._asdict().keys())\n",
    "    df['time'] = pd.to_datetime(df['time'], unit = 's')\n",
    "    df.drop(['time_update', 'time_msc', 'time_update_msc', 'external_id'], axis = 1, inplace = True)\n",
    "    df = df.loc[df.type == 0]\n",
    "\n",
    "    sum = 0\n",
    "    for i in df.index:\n",
    "        volume = df.volume[i]\n",
    "        open_price = df.price_open[i]\n",
    "        margin = mt5.order_calc_margin(mt5.ORDER_TYPE_BUY, symbol, volume, open_price)\n",
    "        sum += margin\n",
    "    return sum"
   ]
  },
  {
   "cell_type": "code",
   "execution_count": 10,
   "id": "98aff5c9",
   "metadata": {},
   "outputs": [],
   "source": [
    "## function to calculate the total margin for sell position\n",
    "def cal_sell_margin(symbol):\n",
    "    usd_positions = mt5.positions_get(symbol = symbol)\n",
    "    df = pd.DataFrame(list(usd_positions), columns = usd_positions[0]._asdict().keys())\n",
    "    df['time'] = pd.to_datetime(df['time'], unit = 's')\n",
    "    df.drop(['time_update', 'time_msc', 'time_update_msc', 'external_id'], axis = 1, inplace = True)\n",
    "    df = df.loc[df.type == 1]\n",
    "\n",
    "    sum = 0\n",
    "    for i in df.index:\n",
    "        volume = df.volume[i]\n",
    "        open_price = df.price_open[i]\n",
    "        margin = mt5.order_calc_margin(mt5.ORDER_TYPE_SELL, symbol, volume, open_price)\n",
    "        sum += margin\n",
    "    return sum"
   ]
  },
  {
   "cell_type": "code",
   "execution_count": 11,
   "id": "f5e0dc17",
   "metadata": {},
   "outputs": [],
   "source": [
    "## function to calculate the percentage profit\n",
    "def cal_pct_profit(symbol):\n",
    "    total_profit = cal_profit(symbol)\n",
    "    buy_margin = cal_buy_margin(symbol)\n",
    "    sell_margin = cal_sell_margin(symbol)\n",
    "    total_margin = buy_margin + sell_margin\n",
    "    pct_profit = (total_profit/total_margin) * 100\n",
    "    return pct_profit"
   ]
  },
  {
   "cell_type": "code",
   "execution_count": 12,
   "id": "aa9a6fc2",
   "metadata": {},
   "outputs": [],
   "source": [
    "## function to close a position\n",
    "def close_position(position):\n",
    "    tick = mt5.symbol_info_tick(position.symbol)\n",
    "\n",
    "    request = {\n",
    "        \"action\": mt5.TRADE_ACTION_DEAL,\n",
    "        \"position\": position.ticket,\n",
    "        \"symbol\": position.symbol,\n",
    "        \"volume\": position.volume,\n",
    "        \"type\": mt5.ORDER_TYPE_BUY if position.type == 1 else mt5.ORDER_TYPE_SELL,\n",
    "        \"price\": tick.ask if position.type == 1 else tick.bid,\n",
    "        \"deviation\": 20,\n",
    "        \"magic\": 100,\n",
    "        \"comment\": \"python script close\",\n",
    "        \"type_time\": mt5.ORDER_TIME_GTC,\n",
    "        \"type_filling\": mt5.ORDER_FILLING_IOC,\n",
    "    }\n",
    "\n",
    "    result = mt5.order_send(request)\n",
    "    return result"
   ]
  },
  {
   "cell_type": "code",
   "execution_count": 13,
   "id": "45deef19",
   "metadata": {},
   "outputs": [],
   "source": [
    "## function to close all positions\n",
    "def close_all(symbol):\n",
    "    positions = mt5.positions_get(symbol = symbol)\n",
    "    for position in positions:\n",
    "        close_position(position)"
   ]
  },
  {
   "cell_type": "code",
   "execution_count": 14,
   "id": "a2e70420",
   "metadata": {},
   "outputs": [],
   "source": [
    "## function to calculate current price deviation\n",
    "def cal_curr_price_deviation(symbol):\n",
    "    positions = mt5.positions_get(symbol = symbol)\n",
    "    position = positions[len(positions) - 1]\n",
    "    initial_price = position.price_open\n",
    "    current_price = mt5.symbol_info_tick(symbol).ask\n",
    "    deviation = ((current_price - initial_price)/initial_price) * 100 * 100\n",
    "    if direction == \"buy\":\n",
    "        return deviation\n",
    "    if direction == \"sell\":\n",
    "        return deviation * -1"
   ]
  },
  {
   "cell_type": "code",
   "execution_count": null,
   "id": "64de8406",
   "metadata": {},
   "outputs": [
    {
     "name": "stdout",
     "output_type": "stream",
     "text": [
      "OrderSendResult(retcode=10009, deal=353457811, order=486852408, volume=0.01, price=1.22444, bid=1.22444, ask=1.2245, comment='Request executed', request_id=341453398, retcode_external=0, request=TradeRequest(action=1, magic=100, order=0, symbol='GBPUSD', volume=0.01, price=1.22444, stoplimit=0.0, sl=0.0, tp=0.0, deviation=20, type=1, type_filling=1, type_time=0, expiration=0, comment='python market order', position=0, position_by=0))\n",
      "OrderSendResult(retcode=10009, deal=353458337, order=486853074, volume=0.01, price=1.22428, bid=1.22428, ask=1.22434, comment='Request executed', request_id=341453400, retcode_external=0, request=TradeRequest(action=1, magic=100, order=0, symbol='GBPUSD', volume=0.01, price=1.2242899999999999, stoplimit=0.0, sl=0.0, tp=0.0, deviation=20, type=1, type_filling=1, type_time=0, expiration=0, comment='python market order', position=0, position_by=0))\n",
      "OrderSendResult(retcode=10009, deal=353458760, order=486853650, volume=0.01, price=1.2241900000000001, bid=1.2241900000000001, ask=1.22425, comment='Request executed', request_id=341453402, retcode_external=0, request=TradeRequest(action=1, magic=100, order=0, symbol='GBPUSD', volume=0.01, price=1.2241900000000001, stoplimit=0.0, sl=0.0, tp=0.0, deviation=20, type=1, type_filling=1, type_time=0, expiration=0, comment='python market order', position=0, position_by=0))\n",
      "OrderSendResult(retcode=10009, deal=353459585, order=486854710, volume=0.01, price=1.22397, bid=1.22397, ask=1.22409, comment='Request executed', request_id=341453404, retcode_external=0, request=TradeRequest(action=1, magic=100, order=0, symbol='GBPUSD', volume=0.01, price=1.22405, stoplimit=0.0, sl=0.0, tp=0.0, deviation=20, type=1, type_filling=1, type_time=0, expiration=0, comment='python market order', position=0, position_by=0))\n",
      "OrderSendResult(retcode=10009, deal=353459624, order=486854760, volume=0.02, price=1.224, bid=1.224, ask=1.22412, comment='Request executed', request_id=341453405, retcode_external=0, request=TradeRequest(action=1, magic=100, order=0, symbol='GBPUSD', volume=0.02, price=1.224, stoplimit=0.0, sl=0.0, tp=0.0, deviation=20, type=1, type_filling=1, type_time=0, expiration=0, comment='python market order', position=0, position_by=0))\n",
      "OrderSendResult(retcode=10009, deal=353463478, order=486860405, volume=0.01, price=1.22387, bid=1.22387, ask=1.22393, comment='Request executed', request_id=341453408, retcode_external=0, request=TradeRequest(action=1, magic=100, order=0, symbol='GBPUSD', volume=0.01, price=1.22387, stoplimit=0.0, sl=0.0, tp=0.0, deviation=20, type=1, type_filling=1, type_time=0, expiration=0, comment='python market order', position=0, position_by=0))\n",
      "OrderSendResult(retcode=10009, deal=353463524, order=486860468, volume=0.02, price=1.22395, bid=1.22395, ask=1.22405, comment='Request executed', request_id=341453409, retcode_external=0, request=TradeRequest(action=1, magic=100, order=0, symbol='GBPUSD', volume=0.02, price=1.22395, stoplimit=0.0, sl=0.0, tp=0.0, deviation=20, type=1, type_filling=1, type_time=0, expiration=0, comment='python market order', position=0, position_by=0))\n",
      "OrderSendResult(retcode=10009, deal=353464826, order=486862696, volume=0.01, price=1.22379, bid=1.22379, ask=1.22389, comment='Request executed', request_id=341453412, retcode_external=0, request=TradeRequest(action=1, magic=100, order=0, symbol='GBPUSD', volume=0.01, price=1.22379, stoplimit=0.0, sl=0.0, tp=0.0, deviation=20, type=1, type_filling=1, type_time=0, expiration=0, comment='python market order', position=0, position_by=0))\n",
      "OrderSendResult(retcode=10009, deal=353464883, order=486862773, volume=0.02, price=1.2238, bid=1.2238, ask=1.2239200000000001, comment='Request executed', request_id=341453413, retcode_external=0, request=TradeRequest(action=1, magic=100, order=0, symbol='GBPUSD', volume=0.02, price=1.2238, stoplimit=0.0, sl=0.0, tp=0.0, deviation=20, type=1, type_filling=1, type_time=0, expiration=0, comment='python market order', position=0, position_by=0))\n"
     ]
    }
   ],
   "source": [
    "## driver code\n",
    "while True:\n",
    "    market_order(symbol, volume, direction)\n",
    "    pos = mt5.positions_get(symbol = symbol)\n",
    "    if len(pos) > 0:\n",
    "        curr_no_of_safty_orders = 0\n",
    "        multiplied_volume = volume * 2\n",
    "        deviation = -1\n",
    "        next_price_level = -1\n",
    "\n",
    "        is_ok = True\n",
    "        while is_ok:\n",
    "            curr_price_deviation = cal_curr_price_deviation(symbol)\n",
    "            if curr_price_deviation <= next_price_level:\n",
    "                if curr_no_of_safty_orders < no_of_safty_orders:\n",
    "                    market_order(symbol, multiplied_volume, direction)\n",
    "                    multiplied_volume *= 2\n",
    "                    deviation *= 2\n",
    "                    next_price_level += deviation\n",
    "                    curr_no_of_safty_orders += 1\n",
    "\n",
    "\n",
    "            try:\n",
    "                pct_profit = cal_pct_profit(symbol)\n",
    "            except:\n",
    "                pass\n",
    "            if pct_profit >= profit_target:\n",
    "                close_all(symbol)\n",
    "                is_ok = False"
   ]
  }
 ],
 "metadata": {
  "kernelspec": {
   "display_name": "Python 3 (ipykernel)",
   "language": "python",
   "name": "python3"
  },
  "language_info": {
   "codemirror_mode": {
    "name": "ipython",
    "version": 3
   },
   "file_extension": ".py",
   "mimetype": "text/x-python",
   "name": "python",
   "nbconvert_exporter": "python",
   "pygments_lexer": "ipython3",
   "version": "3.9.13"
  }
 },
 "nbformat": 4,
 "nbformat_minor": 5
}
