{
 "cells": [
  {
   "cell_type": "markdown",
   "id": "170283cd",
   "metadata": {},
   "source": [
    "## Assembling the Bot"
   ]
  },
  {
   "cell_type": "code",
   "execution_count": null,
   "id": "99184d78",
   "metadata": {},
   "outputs": [],
   "source": [
    "## import the libraries\n",
    "import MetaTrader5 as mt5\n",
    "import pandas as pd"
   ]
  },
  {
   "cell_type": "code",
   "execution_count": null,
   "id": "a405d595",
   "metadata": {},
   "outputs": [],
   "source": [
    "## trading parameters"
   ]
  },
  {
   "cell_type": "code",
   "execution_count": null,
   "id": "8825b8d0",
   "metadata": {},
   "outputs": [],
   "source": [
    "## connect with python\n",
    "mt5.initialize(login = 51386052, server = \"ICMarketsSC-Demo\", password =\"8ZahZUPE\")"
   ]
  },
  {
   "cell_type": "code",
   "execution_count": null,
   "id": "ab0ccba1",
   "metadata": {},
   "outputs": [],
   "source": [
    "## placing market orders\n",
    "def market_order(symbol, volume, order_type):\n",
    "    tick = mt5.symbol_info_tick(symbol)\n",
    "    order_dict = {'buy': 0, 'sell': 1}\n",
    "    price_dict = {'buy': tick.ask, 'sell': tick.bid}\n",
    "\n",
    "    request = {\n",
    "        \"action\": mt5.TRADE_ACTION_DEAL,\n",
    "        \"symbol\": symbol,\n",
    "        \"volume\": volume,\n",
    "        \"type\": order_dict[order_type],\n",
    "        \"price\": price_dict[order_type],\n",
    "        \"deviation\": 20,\n",
    "        \"magic\": 100,\n",
    "        \"comment\": \"python market order\",\n",
    "        \"type_time\": mt5.ORDER_TIME_GTC,\n",
    "        \"type_filling\": mt5.ORDER_FILLING_IOC,\n",
    "    }\n",
    "\n",
    "    order_result = mt5.order_send(request)\n",
    "    print(order_result)\n",
    "    return order_result"
   ]
  },
  {
   "cell_type": "code",
   "execution_count": null,
   "id": "a50f6975",
   "metadata": {},
   "outputs": [],
   "source": [
    "## function to calculate the total profit\n",
    "def cal_profit(symbol):\n",
    "    usd_positions = mt5.positions_get(symbol = symbol)\n",
    "    df = pd.DataFrame(list(usd_positions), columns = usd_positions[0]._asdict().keys())\n",
    "    df['time'] = pd.to_datetime(df['time'], unit = 's')\n",
    "    df.drop(['time_update', 'time_msc', 'time_update_msc', 'external_id'], axis = 1, inplace = True)\n",
    "    profit = float(df[\"profit\"].sum())\n",
    "    return profit"
   ]
  },
  {
   "cell_type": "code",
   "execution_count": null,
   "id": "40024056",
   "metadata": {},
   "outputs": [],
   "source": [
    "## function to calculate the total volume\n",
    "def cal_volume(symbol):\n",
    "    usd_positions = mt5.positions_get(symbol = symbol)\n",
    "    df = pd.DataFrame(list(usd_positions), columns = usd_positions[0]._asdict().keys())\n",
    "    df['time'] = pd.to_datetime(df['time'], unit = 's')\n",
    "    df.drop(['time_update', 'time_msc', 'time_update_msc', 'external_id'], axis = 1, inplace = True)\n",
    "    volume = float(df[\"volume\"].sum())\n",
    "    return volume"
   ]
  },
  {
   "cell_type": "code",
   "execution_count": null,
   "id": "7bb90a13",
   "metadata": {},
   "outputs": [],
   "source": [
    "## function to calculate the profit for buy position\n",
    "def cal_buy_profit(symbol):\n",
    "    usd_positions = mt5.positions_get(symbol = symbol)\n",
    "    df = pd.DataFrame(list(usd_positions), columns = usd_positions[0]._asdict().keys())\n",
    "    df['time'] = pd.to_datetime(df['time'], unit = 's')\n",
    "    df.drop(['time_update', 'time_msc', 'time_update_msc', 'external_id'], axis = 1, inplace = True)\n",
    "    df = df.loc[df.type == 0]\n",
    "    profit = float(df[\"profit\"].sum())\n",
    "    return profit"
   ]
  },
  {
   "cell_type": "code",
   "execution_count": null,
   "id": "cf823097",
   "metadata": {},
   "outputs": [],
   "source": [
    "## function to calculate the profit for sell position\n",
    "def cal_sell_profit(symbol):\n",
    "    usd_positions = mt5.positions_get(symbol = symbol)\n",
    "    df = pd.DataFrame(list(usd_positions), columns = usd_positions[0]._asdict().keys())\n",
    "    df['time'] = pd.to_datetime(df['time'], unit = 's')\n",
    "    df.drop(['time_update', 'time_msc', 'time_update_msc', 'external_id'], axis = 1, inplace = True)\n",
    "    df = df.loc[df.type == 1]\n",
    "    profit = float(df[\"profit\"].sum())\n",
    "    return profit"
   ]
  },
  {
   "cell_type": "code",
   "execution_count": null,
   "id": "aea82f70",
   "metadata": {},
   "outputs": [],
   "source": [
    "## function to calculate the total margin for buy position\n",
    "def cal_buy_margin(symbol):\n",
    "    usd_positions = mt5.positions_get(symbol = symbol)\n",
    "    df = pd.DataFrame(list(usd_positions), columns = usd_positions[0]._asdict().keys())\n",
    "    df['time'] = pd.to_datetime(df['time'], unit = 's')\n",
    "    df.drop(['time_update', 'time_msc', 'time_update_msc', 'external_id'], axis = 1, inplace = True)\n",
    "    df = df.loc[df.type == 0]\n",
    "\n",
    "    sum = 0\n",
    "    for i in df.index:\n",
    "        volume = df.volume[i]\n",
    "        open_price = df.price_open[i]\n",
    "        margin = mt5.order_calc_margin(mt5.ORDER_TYPE_BUY, symbol, volume, open_price)\n",
    "        sum += margin\n",
    "    return sum"
   ]
  },
  {
   "cell_type": "code",
   "execution_count": null,
   "id": "b5f2dd95",
   "metadata": {},
   "outputs": [],
   "source": [
    "## function to calculate the total margin for sell position\n",
    "def cal_sell_margin(symbol):\n",
    "    usd_positions = mt5.positions_get(symbol = symbol)\n",
    "    df = pd.DataFrame(list(usd_positions), columns = usd_positions[0]._asdict().keys())\n",
    "    df['time'] = pd.to_datetime(df['time'], unit = 's')\n",
    "    df.drop(['time_update', 'time_msc', 'time_update_msc', 'external_id'], axis = 1, inplace = True)\n",
    "    df = df.loc[df.type == 1]\n",
    "\n",
    "    sum = 0\n",
    "    for i in df.index:\n",
    "        volume = df.volume[i]\n",
    "        open_price = df.price_open[i]\n",
    "        margin = mt5.order_calc_margin(mt5.ORDER_TYPE_SELL, symbol, volume, open_price)\n",
    "        sum += margin\n",
    "    return sum"
   ]
  },
  {
   "cell_type": "code",
   "execution_count": null,
   "id": "5c41f09d",
   "metadata": {},
   "outputs": [],
   "source": [
    "## function to calculate the percentage profit\n",
    "def cal_pct_profit(symbol):\n",
    "    total_profit = cal_profit(symbol)\n",
    "    buy_margin = cal_buy_margin(symbol)\n",
    "    sell_margin = cal_sell_margin(symbol)\n",
    "    total_margin = buy_margin + sell_margin\n",
    "    pct_profit = (total_profit/total_margin) * 100\n",
    "    return pct_profit"
   ]
  },
  {
   "cell_type": "code",
   "execution_count": null,
   "id": "d141d842",
   "metadata": {},
   "outputs": [],
   "source": [
    "## function to close a position\n",
    "def close_position(position):\n",
    "    tick = mt5.symbol_info_tick(position.symbol)\n",
    "\n",
    "    request = {\n",
    "        \"action\": mt5.TRADE_ACTION_DEAL,\n",
    "        \"position\": position.ticket,\n",
    "        \"symbol\": position.symbol,\n",
    "        \"volume\": position.volume,\n",
    "        \"type\": mt5.ORDER_TYPE_BUY if position.type == 1 else mt5.ORDER_TYPE_SELL,\n",
    "        \"price\": tick.ask if position.type == 1 else tick.bid,\n",
    "        \"deviation\": 20,\n",
    "        \"magic\": 100,\n",
    "        \"comment\": \"python script close\",\n",
    "        \"type_time\": mt5.ORDER_TIME_GTC,\n",
    "        \"type_filling\": mt5.ORDER_FILLING_IOC,\n",
    "    }\n",
    "\n",
    "    result = mt5.order_send(request)\n",
    "    return result"
   ]
  },
  {
   "cell_type": "code",
   "execution_count": null,
   "id": "6f93f42b",
   "metadata": {},
   "outputs": [],
   "source": [
    "## function to close all positions\n",
    "def close_all(symbol):\n",
    "    positions = mt5.positions_get(symbol = symbol)\n",
    "    for position in positions:\n",
    "        close_position(position)"
   ]
  }
 ],
 "metadata": {
  "kernelspec": {
   "display_name": "Python 3 (ipykernel)",
   "language": "python",
   "name": "python3"
  },
  "language_info": {
   "codemirror_mode": {
    "name": "ipython",
    "version": 3
   },
   "file_extension": ".py",
   "mimetype": "text/x-python",
   "name": "python",
   "nbconvert_exporter": "python",
   "pygments_lexer": "ipython3",
   "version": "3.9.13"
  }
 },
 "nbformat": 4,
 "nbformat_minor": 5
}
