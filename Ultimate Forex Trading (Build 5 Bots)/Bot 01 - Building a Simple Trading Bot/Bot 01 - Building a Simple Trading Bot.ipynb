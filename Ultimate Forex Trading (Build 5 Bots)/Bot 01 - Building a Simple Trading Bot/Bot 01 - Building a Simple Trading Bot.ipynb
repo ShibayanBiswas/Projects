{
 "cells": [
  {
   "cell_type": "markdown",
   "id": "f0b30787",
   "metadata": {},
   "source": [
    "## Assembling the Bot"
   ]
  },
  {
   "cell_type": "code",
   "execution_count": null,
   "id": "c78e6e48",
   "metadata": {},
   "outputs": [],
   "source": [
    "## import the libraries\n",
    "import MetaTrader5 as mt5\n",
    "import pandas as pd"
   ]
  },
  {
   "cell_type": "code",
   "execution_count": null,
   "id": "674ab578",
   "metadata": {},
   "outputs": [],
   "source": [
    "## connect with python\n",
    "mt5.initialize(login = 51386052, server = \"ICMarketsSC-Demo\", password =\"8ZahZUPE\")"
   ]
  },
  {
   "cell_type": "code",
   "execution_count": null,
   "id": "58cae666",
   "metadata": {},
   "outputs": [],
   "source": [
    "## trading parameters\n",
    "symbol = \"GBPUSD\"\n",
    "sma_period = 14\n",
    "timeframe = mt5.TIMEFRAME_M1\n",
    "volume = 0.05"
   ]
  },
  {
   "cell_type": "code",
   "execution_count": null,
   "id": "81f3bd77",
   "metadata": {},
   "outputs": [],
   "source": [
    "## function to place market order\n",
    "def market_order(symbol, volume, order_type):\n",
    "    tick = mt5.symbol_info_tick(symbol)\n",
    "    order_dict = {'buy': 0, 'sell': 1}\n",
    "    price_dict = {'buy': tick.ask, 'sell': tick.bid}\n",
    "\n",
    "    request = {\n",
    "        \"action\": mt5.TRADE_ACTION_DEAL,\n",
    "        \"symbol\": symbol,\n",
    "        \"volume\": volume,\n",
    "        \"type\": order_dict[order_type],\n",
    "        \"price\": price_dict[order_type],\n",
    "        \"deviation\": 20,\n",
    "        \"magic\": 100,\n",
    "        \"comment\": \"python market order\",\n",
    "        \"type_time\": mt5.ORDER_TIME_GTC,\n",
    "        \"type_filling\": mt5.ORDER_FILLING_IOC,\n",
    "    }\n",
    "\n",
    "    order_result = mt5.order_send(request)\n",
    "    print(order_result)\n",
    "    return order_result"
   ]
  },
  {
   "cell_type": "code",
   "execution_count": null,
   "id": "b4a17181",
   "metadata": {},
   "outputs": [],
   "source": [
    "## function to close a position\n",
    "def close_position(position):\n",
    "    tick = mt5.symbol_info_tick(position.symbol)\n",
    "\n",
    "    request = {\n",
    "        \"action\": mt5.TRADE_ACTION_DEAL,\n",
    "        \"position\": position.ticket,\n",
    "        \"symbol\": position.symbol,\n",
    "        \"volume\": position.volume,\n",
    "        \"type\": mt5.ORDER_TYPE_BUY if position.type == 1 else mt5.ORDER_TYPE_SELL,\n",
    "        \"price\": tick.ask if position.type == 1 else tick.bid,\n",
    "        \"deviation\": 20,\n",
    "        \"magic\": 100,\n",
    "        \"comment\": \"python script close\",\n",
    "        \"type_time\": mt5.ORDER_TIME_GTC,\n",
    "        \"type_filling\": mt5.ORDER_FILLING_IOC,\n",
    "    }\n",
    "\n",
    "    result = mt5.order_send(request)\n",
    "    return result"
   ]
  },
  {
   "cell_type": "code",
   "execution_count": null,
   "id": "7c798900",
   "metadata": {},
   "outputs": [],
   "source": [
    "## function to calculate the direction\n",
    "def cal_direction(symbol, sma_period, timeframe):\n",
    "    candles = mt5.copy_rates_from_pos(symbol, timeframe, 1, sma_period)\n",
    "    candles_df = pd.DataFrame(candles)\n",
    "    ## closing price of the last candle\n",
    "    last_close = candles_df.iloc[-1].close\n",
    "    ## simple moving average\n",
    "    sma = candles_df.close.mean()\n",
    "    if last_close > sma:\n",
    "        return \"buy\"\n",
    "    if last_close < sma:\n",
    "        return \"sell\"\n",
    "    if last_close == sma:\n",
    "        return \"neutral\""
   ]
  },
  {
   "cell_type": "code",
   "execution_count": null,
   "id": "26ad3c43",
   "metadata": {},
   "outputs": [],
   "source": [
    "## driver code\n",
    "while True:\n",
    "    direction = cal_direction(symbol, sma_period, timeframe)\n",
    "    \n",
    "    ## if direction is buy, close the sell positions and if there are no positions, we have to place a buy order\n",
    "    if direction == \"buy\":\n",
    "        for position in mt5.positions_get(symbol = symbol):\n",
    "            if position.type == 1:\n",
    "                close_position(position)\n",
    "        if not mt5.positions_total():\n",
    "            market_order(symbol, volume, direction)\n",
    "    \n",
    "    ## if direction is sell, close the buy positions and if there are no positions, we have to place a sell order\n",
    "    if direction == \"sell\":\n",
    "        for position in mt5.positions_get(symbol = symbol):\n",
    "            if position.type == 0:\n",
    "                close_position(position)\n",
    "        if not mt5.positions_total():\n",
    "            market_order(symbol, volume, direction)"
   ]
  },
  {
   "cell_type": "markdown",
   "id": "dbde6049",
   "metadata": {},
   "source": [
    "## Testing the Bot"
   ]
  },
  {
   "cell_type": "markdown",
   "id": "218c4b9e",
   "metadata": {},
   "source": [
    "Let's run the above code and wait for some time to see what happens. We will stop the bot and close the current position."
   ]
  }
 ],
 "metadata": {
  "kernelspec": {
   "display_name": "Python 3 (ipykernel)",
   "language": "python",
   "name": "python3"
  },
  "language_info": {
   "codemirror_mode": {
    "name": "ipython",
    "version": 3
   },
   "file_extension": ".py",
   "mimetype": "text/x-python",
   "name": "python",
   "nbconvert_exporter": "python",
   "pygments_lexer": "ipython3",
   "version": "3.9.13"
  }
 },
 "nbformat": 4,
 "nbformat_minor": 5
}
